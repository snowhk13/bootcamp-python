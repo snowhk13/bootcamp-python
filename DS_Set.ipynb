{
 "cells": [
  {
   "cell_type": "code",
   "execution_count": 21,
   "metadata": {},
   "outputs": [
    {
     "name": "stdout",
     "output_type": "stream",
     "text": [
      "[90, 100, 90]\n",
      "{90, 100}\n",
      "{80, 90, 100}\n",
      "{80, 90, 99, 100}\n",
      "{80, 99, 100}\n",
      "{80, 99, 100, 4, -1000, -6}\n",
      "{99, 100, 4, -1000, -6}\n"
     ]
    }
   ],
   "source": [
    "# set (unique, no ordering)\n",
    "numbers = [90, 100, 90]\n",
    "print(numbers) \n",
    "\n",
    "# [] -> List\n",
    "# {} -> Set\n",
    "\n",
    "numbers = {90, 100, 90}\n",
    "print(numbers) \n",
    "\n",
    "numbers.add(80)\n",
    "numbers.add(100)\n",
    "print(numbers)\n",
    "\n",
    "numbers.add(99)\n",
    "print(numbers)\n",
    "numbers.remove(90)\n",
    "print(numbers)\n",
    "\n",
    "numbers2 = {4, 100, -6, -1000}\n",
    "\n",
    "numbers.update(numbers2) # merge\n",
    "\n",
    "print(numbers) # {80, 99, 100, 4, -1000, -6}\n",
    "\n",
    "numbers.pop() # random item (because not ordered)\n",
    "print(numbers)\n"
   ]
  },
  {
   "cell_type": "code",
   "execution_count": 28,
   "metadata": {},
   "outputs": [
    {
     "name": "stdout",
     "output_type": "stream",
     "text": [
      "{2.4, 4.8, 6.7}\n",
      "{9.2, 2.4, 6.7}\n",
      "{2.4, 6.7}\n",
      "{4.8}\n",
      "{4.8}\n",
      "{9.2}\n"
     ]
    }
   ],
   "source": [
    "numbers3 = {6.7, 4.8, 2.4, 6.7}\n",
    "numbers4 = {6.7, 9.2, 2.4, 9.2}\n",
    "\n",
    "intersect_values = numbers3.intersection(numbers4)\n",
    "print(numbers3)\n",
    "print(numbers4)\n",
    "print(intersect_values)\n",
    "\n",
    "difference_values = numbers3.difference(numbers4) # numbers3 not exists in numbers4\n",
    "print(difference_values)\n",
    "\n",
    "print (numbers3 - numbers4) # numbers3 not exists in numbers4\n",
    "print (numbers4 - numbers3) # numbers4 not exists in numbers3\n"
   ]
  },
  {
   "cell_type": "code",
   "execution_count": 3,
   "metadata": {},
   "outputs": [
    {
     "name": "stdout",
     "output_type": "stream",
     "text": [
      "{True, '3333', 3333}\n"
     ]
    }
   ],
   "source": [
    "values = {\"3333\", 3333, True, '3333'}\n",
    "print(values)"
   ]
  },
  {
   "cell_type": "code",
   "execution_count": null,
   "metadata": {},
   "outputs": [
    {
     "ename": "NameError",
     "evalue": "name 'pd' is not defined",
     "output_type": "error",
     "traceback": [
      "\u001b[31m---------------------------------------------------------------------------\u001b[39m",
      "\u001b[31mNameError\u001b[39m                                 Traceback (most recent call last)",
      "\u001b[36mCell\u001b[39m\u001b[36m \u001b[39m\u001b[32mIn[1]\u001b[39m\u001b[32m, line 3\u001b[39m\n\u001b[32m      1\u001b[39m url = \u001b[33m\"\u001b[39m\u001b[33mhttps://raw.githubusercontent.com/datasciencedojo/datasets/master/titanic.csv\u001b[39m\u001b[33m\"\u001b[39m\n\u001b[32m----> \u001b[39m\u001b[32m3\u001b[39m df = \u001b[43mpd\u001b[49m.read_csv(url)\n\u001b[32m      5\u001b[39m \u001b[38;5;28mprint\u001b[39m(df[\u001b[33m\"\u001b[39m\u001b[33mAge\u001b[39m\u001b[33m\"\u001b[39m].mean())\n\u001b[32m      6\u001b[39m \u001b[38;5;28mprint\u001b[39m(df[\u001b[33m\"\u001b[39m\u001b[33mAge\u001b[39m\u001b[33m\"\u001b[39m] > \u001b[32m30\u001b[39m)\n",
      "\u001b[31mNameError\u001b[39m: name 'pd' is not defined"
     ]
    }
   ],
   "source": []
  }
 ],
 "metadata": {
  "kernelspec": {
   "display_name": "Python (bootcamp-env)",
   "language": "python",
   "name": "bootcamp-env"
  },
  "orig_nbformat": 4
 },
 "nbformat": 4,
 "nbformat_minor": 2
}
