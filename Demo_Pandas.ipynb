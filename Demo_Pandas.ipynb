{
 "cells": [
  {
   "cell_type": "code",
   "execution_count": 55,
   "metadata": {},
   "outputs": [
    {
     "name": "stdout",
     "output_type": "stream",
     "text": [
      "0     2\n",
      "1     8\n",
      "2    10\n",
      "3    -2\n",
      "dtype: int64\n",
      "<class 'pandas.core.series.Series'>\n",
      "<class 'dict'>\n",
      "    names  ages       city\n",
      "0   Jacky    27  Hong Kong\n",
      "1     Bob     9   New York\n",
      "2  Steven    13  Hong Kong\n"
     ]
    }
   ],
   "source": [
    "import pandas as pd\n",
    "\n",
    "# Series\n",
    "s = pd.Series([2, 8, 10, -2])\n",
    "print(s)\n",
    "print(type(s)) # Series\n",
    "\n",
    "# DataFrame\n",
    "dictionary = {\n",
    "  \"names\" : [\"Jacky\", \"Bob\", \"Steven\"],\n",
    "  \"ages\" : [27, 9, 13],\n",
    "  \"city\" : [\"Hong Kong\", \"New York\", \"Hong Kong\"]\n",
    "}\n",
    "\n",
    "print(type(dictionary))\n",
    "\n",
    "# convert from dictionary to dataframe\n",
    "df = pd.DataFrame(dictionary)\n",
    "print(df)"
   ]
  },
  {
   "cell_type": "code",
   "execution_count": null,
   "metadata": {},
   "outputs": [],
   "source": []
  },
  {
   "cell_type": "code",
   "execution_count": 56,
   "metadata": {},
   "outputs": [
    {
     "name": "stdout",
     "output_type": "stream",
     "text": [
      "     name  age             email\n",
      "0   jacky   27   jacky@gmail.com\n",
      "1     bob    9     bob@gmail.com\n",
      "2  steven   13  steven@gmail.com\n",
      "3    alex   40    alex@gmail.com\n",
      "4   ricky   19   ricky@gmail.com\n",
      "     name  age             email\n",
      "1     bob    9     bob@gmail.com\n",
      "2  steven   13  steven@gmail.com\n",
      "3    alex   40    alex@gmail.com\n",
      "4   ricky   19   ricky@gmail.com\n",
      "5     leo   23     leo@gmail.com\n",
      "<class 'pandas.core.frame.DataFrame'>\n",
      "RangeIndex: 6 entries, 0 to 5\n",
      "Data columns (total 3 columns):\n",
      " #   Column  Non-Null Count  Dtype \n",
      "---  ------  --------------  ----- \n",
      " 0   name    6 non-null      object\n",
      " 1   age     6 non-null      int64 \n",
      " 2   email   6 non-null      object\n",
      "dtypes: int64(1), object(2)\n",
      "memory usage: 276.0+ bytes\n",
      "None\n",
      "             age\n",
      "count   6.000000\n",
      "mean   21.833333\n",
      "std    11.034793\n",
      "min     9.000000\n",
      "25%    14.500000\n",
      "50%    21.000000\n",
      "75%    26.000000\n",
      "max    40.000000\n"
     ]
    }
   ],
   "source": [
    "import pandas as pd\n",
    "df = pd.read_csv(\"staffs.csv\")\n",
    "\n",
    "print(df.head()) # first 5 rows\n",
    "print(df.tail()) # last 5 rows\n",
    "print(df.info())\n",
    "print(df.describe())"
   ]
  },
  {
   "cell_type": "code",
   "execution_count": 32,
   "metadata": {},
   "outputs": [
    {
     "name": "stdout",
     "output_type": "stream",
     "text": [
      "Survived\n",
      "0    30.626179\n",
      "1    28.343690\n",
      "Name: Age, dtype: float64\n"
     ]
    }
   ],
   "source": [
    "import pandas as pd\n",
    "url = \"https://raw.githubusercontent.com/datasciencedojo/datasets/master/titanic.csv\"\n",
    "\n",
    "df = pd.read_csv(url)\n",
    "\n",
    "# print(df[\"Age\"].mean())\n",
    "# print(df[\"Age\"] > 30)\n",
    "\n",
    "print(df.groupby(\"Survived\")[\"Age\"].mean())\n"
   ]
  },
  {
   "cell_type": "code",
   "execution_count": 11,
   "metadata": {},
   "outputs": [
    {
     "name": "stdout",
     "output_type": "stream",
     "text": [
      "True\n",
      "False\n",
      "PassengerId      0\n",
      "Survived         0\n",
      "Pclass           0\n",
      "Name             0\n",
      "Sex              0\n",
      "Age            177\n",
      "SibSp            0\n",
      "Parch            0\n",
      "Ticket           0\n",
      "Fare             0\n",
      "Cabin          687\n",
      "Embarked         2\n",
      "dtype: int64\n",
      "Index(['Age', 'Cabin', 'Embarked'], dtype='object')\n"
     ]
    }
   ],
   "source": [
    "print(df[\"Age\"].isnull().any())\n",
    "print(df[\"Name\"].isnull().any())\n",
    "\n",
    "print(df.isnull().sum())\n",
    "\n",
    "print(df.columns[df.isnull().any()])"
   ]
  },
  {
   "cell_type": "code",
   "execution_count": null,
   "metadata": {},
   "outputs": [],
   "source": []
  },
  {
   "cell_type": "code",
   "execution_count": 3,
   "metadata": {},
   "outputs": [
    {
     "ename": "KeyError",
     "evalue": "'name'",
     "output_type": "error",
     "traceback": [
      "\u001b[31m---------------------------------------------------------------------------\u001b[39m",
      "\u001b[31mKeyError\u001b[39m                                  Traceback (most recent call last)",
      "\u001b[36mFile \u001b[39m\u001b[32m~\\AppData\\Local\\Programs\\Python\\Python313\\Lib\\site-packages\\pandas\\core\\indexes\\base.py:3812\u001b[39m, in \u001b[36mIndex.get_loc\u001b[39m\u001b[34m(self, key)\u001b[39m\n\u001b[32m   3811\u001b[39m \u001b[38;5;28;01mtry\u001b[39;00m:\n\u001b[32m-> \u001b[39m\u001b[32m3812\u001b[39m     \u001b[38;5;28;01mreturn\u001b[39;00m \u001b[38;5;28;43mself\u001b[39;49m\u001b[43m.\u001b[49m\u001b[43m_engine\u001b[49m\u001b[43m.\u001b[49m\u001b[43mget_loc\u001b[49m\u001b[43m(\u001b[49m\u001b[43mcasted_key\u001b[49m\u001b[43m)\u001b[49m\n\u001b[32m   3813\u001b[39m \u001b[38;5;28;01mexcept\u001b[39;00m \u001b[38;5;167;01mKeyError\u001b[39;00m \u001b[38;5;28;01mas\u001b[39;00m err:\n",
      "\u001b[36mFile \u001b[39m\u001b[32mpandas/_libs/index.pyx:167\u001b[39m, in \u001b[36mpandas._libs.index.IndexEngine.get_loc\u001b[39m\u001b[34m()\u001b[39m\n",
      "\u001b[36mFile \u001b[39m\u001b[32mpandas/_libs/index.pyx:196\u001b[39m, in \u001b[36mpandas._libs.index.IndexEngine.get_loc\u001b[39m\u001b[34m()\u001b[39m\n",
      "\u001b[36mFile \u001b[39m\u001b[32mpandas/_libs/hashtable_class_helper.pxi:7088\u001b[39m, in \u001b[36mpandas._libs.hashtable.PyObjectHashTable.get_item\u001b[39m\u001b[34m()\u001b[39m\n",
      "\u001b[36mFile \u001b[39m\u001b[32mpandas/_libs/hashtable_class_helper.pxi:7096\u001b[39m, in \u001b[36mpandas._libs.hashtable.PyObjectHashTable.get_item\u001b[39m\u001b[34m()\u001b[39m\n",
      "\u001b[31mKeyError\u001b[39m: 'name'",
      "\nThe above exception was the direct cause of the following exception:\n",
      "\u001b[31mKeyError\u001b[39m                                  Traceback (most recent call last)",
      "\u001b[36mCell\u001b[39m\u001b[36m \u001b[39m\u001b[32mIn[3]\u001b[39m\u001b[32m, line 4\u001b[39m\n\u001b[32m      1\u001b[39m \u001b[38;5;66;03m# Dataframe consists of many series\u001b[39;00m\n\u001b[32m      2\u001b[39m \n\u001b[32m      3\u001b[39m \u001b[38;5;66;03m# Column Access. column = series\u001b[39;00m\n\u001b[32m----> \u001b[39m\u001b[32m4\u001b[39m \u001b[38;5;28mprint\u001b[39m(\u001b[43mdf\u001b[49m\u001b[43m[\u001b[49m\u001b[33;43m\"\u001b[39;49m\u001b[33;43mname\u001b[39;49m\u001b[33;43m\"\u001b[39;49m\u001b[43m]\u001b[49m)\n\u001b[32m      5\u001b[39m \u001b[38;5;28mprint\u001b[39m(\u001b[38;5;28mtype\u001b[39m(df[\u001b[33m\"\u001b[39m\u001b[33mname\u001b[39m\u001b[33m\"\u001b[39m])) \u001b[38;5;66;03m# Series\u001b[39;00m\n\u001b[32m      7\u001b[39m \u001b[38;5;28mprint\u001b[39m(df[\u001b[33m\"\u001b[39m\u001b[33mage\u001b[39m\u001b[33m\"\u001b[39m])\n",
      "\u001b[36mFile \u001b[39m\u001b[32m~\\AppData\\Local\\Programs\\Python\\Python313\\Lib\\site-packages\\pandas\\core\\frame.py:4107\u001b[39m, in \u001b[36mDataFrame.__getitem__\u001b[39m\u001b[34m(self, key)\u001b[39m\n\u001b[32m   4105\u001b[39m \u001b[38;5;28;01mif\u001b[39;00m \u001b[38;5;28mself\u001b[39m.columns.nlevels > \u001b[32m1\u001b[39m:\n\u001b[32m   4106\u001b[39m     \u001b[38;5;28;01mreturn\u001b[39;00m \u001b[38;5;28mself\u001b[39m._getitem_multilevel(key)\n\u001b[32m-> \u001b[39m\u001b[32m4107\u001b[39m indexer = \u001b[38;5;28;43mself\u001b[39;49m\u001b[43m.\u001b[49m\u001b[43mcolumns\u001b[49m\u001b[43m.\u001b[49m\u001b[43mget_loc\u001b[49m\u001b[43m(\u001b[49m\u001b[43mkey\u001b[49m\u001b[43m)\u001b[49m\n\u001b[32m   4108\u001b[39m \u001b[38;5;28;01mif\u001b[39;00m is_integer(indexer):\n\u001b[32m   4109\u001b[39m     indexer = [indexer]\n",
      "\u001b[36mFile \u001b[39m\u001b[32m~\\AppData\\Local\\Programs\\Python\\Python313\\Lib\\site-packages\\pandas\\core\\indexes\\base.py:3819\u001b[39m, in \u001b[36mIndex.get_loc\u001b[39m\u001b[34m(self, key)\u001b[39m\n\u001b[32m   3814\u001b[39m     \u001b[38;5;28;01mif\u001b[39;00m \u001b[38;5;28misinstance\u001b[39m(casted_key, \u001b[38;5;28mslice\u001b[39m) \u001b[38;5;129;01mor\u001b[39;00m (\n\u001b[32m   3815\u001b[39m         \u001b[38;5;28misinstance\u001b[39m(casted_key, abc.Iterable)\n\u001b[32m   3816\u001b[39m         \u001b[38;5;129;01mand\u001b[39;00m \u001b[38;5;28many\u001b[39m(\u001b[38;5;28misinstance\u001b[39m(x, \u001b[38;5;28mslice\u001b[39m) \u001b[38;5;28;01mfor\u001b[39;00m x \u001b[38;5;129;01min\u001b[39;00m casted_key)\n\u001b[32m   3817\u001b[39m     ):\n\u001b[32m   3818\u001b[39m         \u001b[38;5;28;01mraise\u001b[39;00m InvalidIndexError(key)\n\u001b[32m-> \u001b[39m\u001b[32m3819\u001b[39m     \u001b[38;5;28;01mraise\u001b[39;00m \u001b[38;5;167;01mKeyError\u001b[39;00m(key) \u001b[38;5;28;01mfrom\u001b[39;00m\u001b[38;5;250m \u001b[39m\u001b[34;01merr\u001b[39;00m\n\u001b[32m   3820\u001b[39m \u001b[38;5;28;01mexcept\u001b[39;00m \u001b[38;5;167;01mTypeError\u001b[39;00m:\n\u001b[32m   3821\u001b[39m     \u001b[38;5;66;03m# If we have a listlike key, _check_indexing_error will raise\u001b[39;00m\n\u001b[32m   3822\u001b[39m     \u001b[38;5;66;03m#  InvalidIndexError. Otherwise we fall through and re-raise\u001b[39;00m\n\u001b[32m   3823\u001b[39m     \u001b[38;5;66;03m#  the TypeError.\u001b[39;00m\n\u001b[32m   3824\u001b[39m     \u001b[38;5;28mself\u001b[39m._check_indexing_error(key)\n",
      "\u001b[31mKeyError\u001b[39m: 'name'"
     ]
    }
   ],
   "source": [
    "# Dataframe consists of many series\n",
    "\n",
    "# Column Access. column = series\n",
    "print(df[\"name\"])\n",
    "print(type(df[\"name\"])) # Series\n",
    "\n",
    "print(df[\"age\"])\n",
    "print(df[\"email\"])\n"
   ]
  },
  {
   "cell_type": "code",
   "execution_count": 58,
   "metadata": {},
   "outputs": [
    {
     "name": "stdout",
     "output_type": "stream",
     "text": [
      "<class 'pandas.core.series.Series'>\n",
      "name               bob\n",
      "age                  9\n",
      "email    bob@gmail.com\n",
      "Name: 1, dtype: object\n",
      "name               bob\n",
      "age                  9\n",
      "email    bob@gmail.com\n",
      "Name: 1, dtype: object\n",
      "   name  age           email\n",
      "3  alex   40  alex@gmail.com\n",
      "     name  age             email\n",
      "2  steven   13  steven@gmail.com\n",
      "3    alex   40    alex@gmail.com\n",
      "5     leo   23     leo@gmail.com\n"
     ]
    }
   ],
   "source": [
    "# Row Access (SQL)\n",
    "print(type(df.loc[0])) # Series\n",
    "\n",
    "print(df.loc[1]) # locate\n",
    "\n",
    "print(df.iloc[1]) # index locate\n",
    "\n",
    "# print(df.loc[df[\"name\"] == \"jacky\"])\n",
    "\n",
    "# age > 10\n",
    "# print(df.loc[df[\"age\"] > 10])\n",
    "\n",
    "# dataframe (and: &) (or: |)\n",
    "# Python dataframe: &| has higher precedence than comparison operators (> or ==).\n",
    "print(df.loc[(df[\"age\"] > 30) & (df[\"name\"].str.contains(\"e\"))])\n",
    "print(df.loc[(df[\"age\"] > 30) | (df[\"name\"].str.contains(\"e\"))])\n"
   ]
  },
  {
   "cell_type": "code",
   "execution_count": null,
   "metadata": {},
   "outputs": [],
   "source": []
  },
  {
   "cell_type": "code",
   "execution_count": 33,
   "metadata": {},
   "outputs": [
    {
     "name": "stdout",
     "output_type": "stream",
     "text": [
      "        Name  Age\n",
      "100    Alice   25\n",
      "101      Bob   30\n",
      "102  Charlie   35\n"
     ]
    }
   ],
   "source": [
    "df = pd.DataFrame({\n",
    "    'Name': ['Alice', 'Bob', 'Charlie'],\n",
    "    'Age': [25, 30, 35]\n",
    "}, index=[100, 101, 102])  # custom index\n",
    "\n",
    "# print(df.loc[101])\n",
    "# print(df.iloc[1])\n",
    "# print(df.loc[df[\"Age\"] > 28])\n",
    "\n",
    "print(df)"
   ]
  },
  {
   "cell_type": "code",
   "execution_count": 60,
   "metadata": {},
   "outputs": [
    {
     "name": "stdout",
     "output_type": "stream",
     "text": [
      "   PassengerId  Survived  Pclass  \\\n",
      "0            1         0       3   \n",
      "1            2         1       1   \n",
      "2            3         1       3   \n",
      "3            4         1       1   \n",
      "4            5         0       3   \n",
      "\n",
      "                                                Name     Sex   Age  SibSp  \\\n",
      "0                            Braund, Mr. Owen Harris    male  22.0      1   \n",
      "1  Cumings, Mrs. John Bradley (Florence Briggs Th...  female  38.0      1   \n",
      "2                             Heikkinen, Miss. Laina  female  26.0      0   \n",
      "3       Futrelle, Mrs. Jacques Heath (Lily May Peel)  female  35.0      1   \n",
      "4                           Allen, Mr. William Henry    male  35.0      0   \n",
      "\n",
      "   Parch            Ticket     Fare Cabin Embarked  \n",
      "0      0         A/5 21171   7.2500   NaN        S  \n",
      "1      0          PC 17599  71.2833   C85        C  \n",
      "2      0  STON/O2. 3101282   7.9250   NaN        S  \n",
      "3      0            113803  53.1000  C123        S  \n",
      "4      0            373450   8.0500   NaN        S  \n"
     ]
    }
   ],
   "source": [
    "url = \"https://raw.githubusercontent.com/datasciencedojo/datasets/master/titanic.csv\"\n",
    "df = pd.read_csv(url)\n",
    "print(df.head())\n"
   ]
  },
  {
   "cell_type": "code",
   "execution_count": 61,
   "metadata": {},
   "outputs": [
    {
     "name": "stdout",
     "output_type": "stream",
     "text": [
      "     PassengerId  Survived  Pclass                            Name   Sex  \\\n",
      "0              1         0       3         Braund, Mr. Owen Harris  male   \n",
      "4              5         0       3        Allen, Mr. William Henry  male   \n",
      "5              6         0       3                Moran, Mr. James  male   \n",
      "6              7         0       1         McCarthy, Mr. Timothy J  male   \n",
      "7              8         0       3  Palsson, Master. Gosta Leonard  male   \n",
      "..           ...       ...     ...                             ...   ...   \n",
      "883          884         0       2   Banfield, Mr. Frederick James  male   \n",
      "884          885         0       3          Sutehall, Mr. Henry Jr  male   \n",
      "886          887         0       2           Montvila, Rev. Juozas  male   \n",
      "889          890         1       1           Behr, Mr. Karl Howell  male   \n",
      "890          891         0       3             Dooley, Mr. Patrick  male   \n",
      "\n",
      "      Age  SibSp  Parch            Ticket     Fare Cabin Embarked  \n",
      "0    22.0      1      0         A/5 21171   7.2500   NaN        S  \n",
      "4    35.0      0      0            373450   8.0500   NaN        S  \n",
      "5     NaN      0      0            330877   8.4583   NaN        Q  \n",
      "6    54.0      0      0             17463  51.8625   E46        S  \n",
      "7     2.0      3      1            349909  21.0750   NaN        S  \n",
      "..    ...    ...    ...               ...      ...   ...      ...  \n",
      "883  28.0      0      0  C.A./SOTON 34068  10.5000   NaN        S  \n",
      "884  25.0      0      0   SOTON/OQ 392076   7.0500   NaN        S  \n",
      "886  27.0      0      0            211536  13.0000   NaN        S  \n",
      "889  26.0      0      0            111369  30.0000  C148        C  \n",
      "890  32.0      0      0            370376   7.7500   NaN        Q  \n",
      "\n",
      "[577 rows x 12 columns]\n"
     ]
    }
   ],
   "source": [
    "# find all male from the csv\n",
    "print(df.loc[df[\"Sex\"] == \"male\"])"
   ]
  },
  {
   "cell_type": "code",
   "execution_count": 62,
   "metadata": {},
   "outputs": [
    {
     "name": "stdout",
     "output_type": "stream",
     "text": [
      "     PassengerId  Survived  Pclass  \\\n",
      "8              9         1       3   \n",
      "172          173         1       3   \n",
      "302          303         0       3   \n",
      "597          598         0       3   \n",
      "719          720         0       3   \n",
      "869          870         1       3   \n",
      "\n",
      "                                                  Name     Sex   Age  SibSp  \\\n",
      "8    Johnson, Mrs. Oscar W (Elisabeth Vilhelmina Berg)  female  27.0      0   \n",
      "172                       Johnson, Miss. Eleanor Ileen  female   1.0      1   \n",
      "302                    Johnson, Mr. William Cahoone Jr    male  19.0      0   \n",
      "597                                Johnson, Mr. Alfred    male  49.0      0   \n",
      "719                       Johnson, Mr. Malkolm Joackim    male  33.0      0   \n",
      "869                    Johnson, Master. Harold Theodor    male   4.0      1   \n",
      "\n",
      "     Parch  Ticket     Fare Cabin Embarked  \n",
      "8        2  347742  11.1333   NaN        S  \n",
      "172      1  347742  11.1333   NaN        S  \n",
      "302      0    LINE   0.0000   NaN        S  \n",
      "597      0    LINE   0.0000   NaN        S  \n",
      "719      0  347062   7.7750   NaN        S  \n",
      "869      1  347742  11.1333   NaN        S  \n"
     ]
    }
   ],
   "source": [
    "\n",
    "# find those names contains \"Johnson\"\n",
    "print(df.loc[df[\"Name\"].str.contains(\"Johnson\")])"
   ]
  },
  {
   "cell_type": "code",
   "execution_count": 31,
   "metadata": {},
   "outputs": [
    {
     "name": "stdout",
     "output_type": "stream",
     "text": [
      "   id              name   username                      email  \\\n",
      "0   1     Leanne Graham       Bret          Sincere@april.biz   \n",
      "1   2      Ervin Howell  Antonette          Shanna@melissa.tv   \n",
      "2   3  Clementine Bauch   Samantha         Nathan@yesenia.net   \n",
      "3   4  Patricia Lebsack   Karianne  Julianne.OConner@kory.org   \n",
      "4   5  Chelsey Dietrich     Kamren   Lucio_Hettinger@annie.ca   \n",
      "\n",
      "                                             address                  phone  \\\n",
      "0  {'street': 'Kulas Light', 'suite': 'Apt. 556',...  1-770-736-8031 x56442   \n",
      "1  {'street': 'Victor Plains', 'suite': 'Suite 87...    010-692-6593 x09125   \n",
      "2  {'street': 'Douglas Extension', 'suite': 'Suit...         1-463-123-4447   \n",
      "3  {'street': 'Hoeger Mall', 'suite': 'Apt. 692',...      493-170-9623 x156   \n",
      "4  {'street': 'Skiles Walks', 'suite': 'Suite 351...          (254)954-1289   \n",
      "\n",
      "         website                                            company  \n",
      "0  hildegard.org  {'name': 'Romaguera-Crona', 'catchPhrase': 'Mu...  \n",
      "1  anastasia.net  {'name': 'Deckow-Crist', 'catchPhrase': 'Proac...  \n",
      "2    ramiro.info  {'name': 'Romaguera-Jacobson', 'catchPhrase': ...  \n",
      "3       kale.biz  {'name': 'Robel-Corkery', 'catchPhrase': 'Mult...  \n",
      "4   demarco.info  {'name': 'Keebler LLC', 'catchPhrase': 'User-c...  \n"
     ]
    }
   ],
   "source": [
    "# read json\n",
    "# final project: history data (json)\n",
    "\n",
    "import pandas as pd\n",
    "\n",
    "url = \"https://jsonplaceholder.typicode.com/users\"\n",
    "df = pd.read_json(url)\n",
    "print(df.head())"
   ]
  },
  {
   "cell_type": "code",
   "execution_count": 91,
   "metadata": {},
   "outputs": [
    {
     "name": "stdout",
     "output_type": "stream",
     "text": [
      "0    False\n",
      "1     True\n",
      "2    False\n",
      "3    False\n",
      "4    False\n",
      "5    False\n",
      "6    False\n",
      "7    False\n",
      "8    False\n",
      "9    False\n",
      "Name: address, dtype: bool\n",
      "   id          name   username              email  \\\n",
      "1   2  Ervin Howell  Antonette  Shanna@melissa.tv   \n",
      "\n",
      "                                             address                phone  \\\n",
      "1  {'street': 'Victor Plains', 'suite': 'Suite 87...  010-692-6593 x09125   \n",
      "\n",
      "         website                                            company  \n",
      "1  anastasia.net  {'name': 'Deckow-Crist', 'catchPhrase': 'Proac...  \n"
     ]
    }
   ],
   "source": [
    "# apply() -> produce a new Series\n",
    "series_of_true_false = df[\"address\"].apply(lambda x: x[\"street\"] == \"Victor Plains\")\n",
    "print(series_of_true_false)\n",
    "\n",
    "print(df[series_of_true_false])"
   ]
  },
  {
   "cell_type": "code",
   "execution_count": 101,
   "metadata": {},
   "outputs": [
    {
     "name": "stdout",
     "output_type": "stream",
     "text": [
      "   id          name   username              email                phone  \\\n",
      "1   2  Ervin Howell  Antonette  Shanna@melissa.tv  010-692-6593 x09125   \n",
      "\n",
      "         website address.street address.suite address.city address.zipcode  \\\n",
      "1  anastasia.net  Victor Plains     Suite 879  Wisokyburgh      90566-7771   \n",
      "\n",
      "  address.geo.lat address.geo.lng  company.name  \\\n",
      "1        -43.9509        -34.4618  Deckow-Crist   \n",
      "\n",
      "              company.catchPhrase                        company.bs  \n",
      "1  Proactive didactic contingency  synergize scalable supply-chains  \n"
     ]
    }
   ],
   "source": [
    "import pandas as pd\n",
    "import requests\n",
    "from pandas import json_normalize\n",
    "\n",
    "url = \"https://jsonplaceholder.typicode.com/users\"\n",
    "response = requests.get(url)\n",
    "data = response.json()\n",
    "df = json_normalize(data) # this deserialization is able to solve \"address.street\"\n",
    "\n",
    "# print(df.info())\n",
    "\n",
    "result = df[df[\"address.street\"] == \"Victor Plains\"]\n",
    "print(result)\n"
   ]
  },
  {
   "cell_type": "code",
   "execution_count": 102,
   "metadata": {},
   "outputs": [
    {
     "name": "stdout",
     "output_type": "stream",
     "text": [
      "   id                      name       username                 email  \\\n",
      "1   2              Ervin Howell      Antonette     Shanna@melissa.tv   \n",
      "2   3          Clementine Bauch       Samantha    Nathan@yesenia.net   \n",
      "7   8  Nicholas Runolfsdottir V  Maxime_Nienow  Sherwood@rosamond.me   \n",
      "\n",
      "                 phone        website     address.street address.suite  \\\n",
      "1  010-692-6593 x09125  anastasia.net      Victor Plains     Suite 879   \n",
      "2       1-463-123-4447    ramiro.info  Douglas Extension     Suite 847   \n",
      "7    586.493.6943 x140   jacynthe.com   Ellsworth Summit     Suite 729   \n",
      "\n",
      "    address.city address.zipcode address.geo.lat address.geo.lng  \\\n",
      "1    Wisokyburgh      90566-7771        -43.9509        -34.4618   \n",
      "2  McKenziehaven      59590-4157        -68.6102        -47.0653   \n",
      "7      Aliyaview           45169        -14.3990       -120.7677   \n",
      "\n",
      "         company.name                company.catchPhrase  \\\n",
      "1        Deckow-Crist     Proactive didactic contingency   \n",
      "2  Romaguera-Jacobson  Face to face bifurcated interface   \n",
      "7     Abernathy Group      Implemented secondary concept   \n",
      "\n",
      "                         company.bs  \n",
      "1  synergize scalable supply-chains  \n",
      "2   e-enable strategic applications  \n",
      "7     e-enable extensible e-tailers  \n"
     ]
    }
   ],
   "source": [
    "# String to float: astype(float)\n",
    "result2 = df[(df[\"address.geo.lat\"].astype(float) < 0) & (df[\"address.geo.lng\"].astype(float) < 0)]\n",
    "print(result2)"
   ]
  },
  {
   "cell_type": "code",
   "execution_count": 104,
   "metadata": {},
   "outputs": [
    {
     "name": "stdout",
     "output_type": "stream",
     "text": [
      "0    False\n",
      "1     True\n",
      "2     True\n",
      "3    False\n",
      "4    False\n",
      "5    False\n",
      "6    False\n",
      "7     True\n",
      "8    False\n",
      "9    False\n",
      "dtype: bool\n"
     ]
    }
   ],
   "source": [
    "# df[] + series of true or false -> filtering\n",
    "series = (df[\"address.geo.lat\"].astype(float) < 0) & (df[\"address.geo.lng\"].astype(float) < 0)\n",
    "print(series)"
   ]
  },
  {
   "cell_type": "code",
   "execution_count": 6,
   "metadata": {},
   "outputs": [],
   "source": [
    "import pandas as pd\n",
    "url = \"https://raw.githubusercontent.com/datasciencedojo/datasets/master/titanic.csv\"\n",
    "\n",
    "df = pd.read_csv(url)\n",
    "df_after_drop = df.dropna(subset=[\"Age\"])"
   ]
  },
  {
   "cell_type": "code",
   "execution_count": null,
   "metadata": {},
   "outputs": [],
   "source": [
    "df_for_refill = df.copy()\n",
    "df_after_refill = df_for_refill[\"Age\"].fillna(\"N/A\")\n",
    "\n",
    "df_after_refill.to_csv(\"all_with_age3.csv\",index=False)"
   ]
  },
  {
   "cell_type": "code",
   "execution_count": 19,
   "metadata": {},
   "outputs": [],
   "source": [
    "import pandas as pd\n",
    "url = \"https://raw.githubusercontent.com/datasciencedojo/datasets/master/titanic.csv\"\n",
    "\n",
    "df = pd.read_csv(url)\n",
    "\n",
    "df[\"Age_Group\"] = df[\"Age\"].apply(lambda x: \"Adult\" if x >= 18 else \"Child\")\n",
    "df.to_csv(\"all_with_age4.csv\",index=False)"
   ]
  },
  {
   "cell_type": "code",
   "execution_count": 30,
   "metadata": {},
   "outputs": [
    {
     "name": "stdout",
     "output_type": "stream",
     "text": [
      "<bound method NDFrame.head of                                                     chart\n",
      "result  [{'meta': {'currency': 'USD', 'symbol': 'TSLA'...\n",
      "error                                                None>\n"
     ]
    }
   ],
   "source": [
    "import pandas as pd\n",
    "import requests\n",
    "from pandas import json_normalize\n",
    "\n",
    "data  = pd.read_json(\"TSLA.json\")\n",
    "\n",
    "\n"
   ]
  }
 ],
 "metadata": {
  "kernelspec": {
   "display_name": "Python (bootcamp-env)",
   "language": "python",
   "name": "bootcamp-env"
  },
  "orig_nbformat": 4
 },
 "nbformat": 4,
 "nbformat_minor": 2
}
