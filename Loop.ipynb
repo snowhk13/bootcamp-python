{
 "cells": [
  {
   "cell_type": "code",
   "execution_count": 1,
   "metadata": {},
   "outputs": [
    {
     "name": "stdout",
     "output_type": "stream",
     "text": [
      "name=John\n",
      "name=Jenny\n",
      "name=Jason\n"
     ]
    }
   ],
   "source": [
    "names = [\"John\", \"Jenny\", \"Jason\"]\n",
    "for x in names:\n",
    "  print(\"name=\" + x)"
   ]
  },
  {
   "cell_type": "code",
   "execution_count": 2,
   "metadata": {},
   "outputs": [
    {
     "name": "stdout",
     "output_type": "stream",
     "text": [
      "value=0\n",
      "value=1\n",
      "value=2\n",
      "value=3\n",
      "value=4\n"
     ]
    }
   ],
   "source": [
    "# Java: for (int i = 0; i < 5; i++)\n",
    "for i in range(5):\n",
    "  print(\"value=\" + str(i))"
   ]
  },
  {
   "cell_type": "code",
   "execution_count": 3,
   "metadata": {},
   "outputs": [
    {
     "name": "stdout",
     "output_type": "stream",
     "text": [
      "h\n",
      "e\n",
      "l\n",
      "l\n",
      "o\n"
     ]
    }
   ],
   "source": [
    "# loop char array (\"hello\".toCharArray())\n",
    "for x in \"hello\":\n",
    "  print(x)"
   ]
  },
  {
   "cell_type": "code",
   "execution_count": 4,
   "metadata": {},
   "outputs": [
    {
     "name": "stdout",
     "output_type": "stream",
     "text": [
      "Contain e.\n"
     ]
    }
   ],
   "source": [
    "# Algo: search String, check if contain 'e'\n",
    "name = \"Jennie\"\n",
    "has_e = False\n",
    "\n",
    "for x in name:\n",
    "  if (x == \"e\"):\n",
    "    has_e = True\n",
    "    break\n",
    "\n",
    "if has_e:\n",
    "  print(\"Contain e.\")\n",
    "else:\n",
    "  print(\"Not contain e.\")\n"
   ]
  },
  {
   "cell_type": "code",
   "execution_count": 5,
   "metadata": {},
   "outputs": [
    {
     "name": "stdout",
     "output_type": "stream",
     "text": [
      "count=0\n",
      "count=1\n",
      "count=2\n",
      "count=3\n",
      "count=4\n"
     ]
    }
   ],
   "source": [
    "# while\n",
    "count = 0\n",
    "while count < 5:\n",
    "  print(\"count=\" + str(count))\n",
    "  count = count + 1"
   ]
  },
  {
   "cell_type": "code",
   "execution_count": 6,
   "metadata": {},
   "outputs": [
    {
     "name": "stdout",
     "output_type": "stream",
     "text": [
      "62\n",
      "Bomb! End Game. bomb=62\n"
     ]
    }
   ],
   "source": [
    "import random\n",
    "# while + break\n",
    "\n",
    "max = 100\n",
    "min = 1\n",
    "bomb = random.randint(min, max)\n",
    "print(bomb)\n",
    "# gen random number between 1 and 100\n",
    "\n",
    "while(True):\n",
    "  user_input = int(input(\"Please input a number bewteen \" + str(min) + \" and \" + str(max)))\n",
    "  # valdiation\n",
    "  if (user_input < min or user_input > max):\n",
    "    continue\n",
    "  # if input = bomb\n",
    "  if (user_input == bomb):\n",
    "    is_bomb = True\n",
    "    break\n",
    "  # adjust min and max for next round\n",
    "  if user_input < bomb:\n",
    "    min = user_input + 1\n",
    "  elif user_input > bomb:\n",
    "    max = user_input - 1\n",
    "\n",
    "if is_bomb:\n",
    "  print(\"Bomb! End Game. bomb=\" + str(bomb))\n"
   ]
  },
  {
   "cell_type": "code",
   "execution_count": 1,
   "metadata": {},
   "outputs": [
    {
     "name": "stdout",
     "output_type": "stream",
     "text": [
      "100\n",
      "-2\n"
     ]
    }
   ],
   "source": [
    "numbers = [4, 9, 3, 100, -2]\n",
    "# find max value\n",
    "max_value = numbers[0]\n",
    "min_value = numbers[0]\n",
    "for x in numbers:\n",
    "  if x > max_value:\n",
    "    max_value = x\n",
    "  if x < min_value:\n",
    "    min_value = x\n",
    "print(max_value)\n",
    "print(min_value)"
   ]
  },
  {
   "cell_type": "code",
   "execution_count": 2,
   "metadata": {},
   "outputs": [
    {
     "name": "stdout",
     "output_type": "stream",
     "text": [
      "100\n",
      "-2\n",
      "22.8\n",
      "3\n",
      "4\n"
     ]
    }
   ],
   "source": [
    "numbers = [4, 9, 3, 100, -2]\n",
    "print(max(numbers))\n",
    "print(min(numbers))\n",
    "print(sum(numbers) / len(numbers))\n",
    "\n",
    "print(numbers.index(max(numbers)))\n",
    "print(numbers.index(min(numbers)))"
   ]
  },
  {
   "cell_type": "code",
   "execution_count": 11,
   "metadata": {},
   "outputs": [
    {
     "name": "stdout",
     "output_type": "stream",
     "text": [
      "*\n",
      "**\n",
      "***\n",
      "****\n",
      "*****\n",
      "******\n",
      "*******\n",
      "********\n",
      "*********\n"
     ]
    }
   ],
   "source": [
    "size = 10\n",
    "for i in range(1, size):\n",
    "  for j in range(0, i):\n",
    "    print(\"*\", end=\"\")\n",
    "  print()"
   ]
  },
  {
   "cell_type": "code",
   "execution_count": 13,
   "metadata": {},
   "outputs": [
    {
     "name": "stdout",
     "output_type": "stream",
     "text": [
      "*\n",
      "**\n",
      "***\n",
      "****\n"
     ]
    }
   ],
   "source": [
    "for i in range(1, 5):\n",
    "  print(\"*\" * i)"
   ]
  }
 ],
 "metadata": {
  "kernelspec": {
   "display_name": "Python (bootcamp-env)",
   "language": "python",
   "name": "bootcamp-env"
  },
  "language_info": {
   "codemirror_mode": {
    "name": "ipython",
    "version": 3
   },
   "file_extension": ".py",
   "mimetype": "text/x-python",
   "name": "python",
   "nbconvert_exporter": "python",
   "pygments_lexer": "ipython3",
   "version": "3.13.3"
  },
  "orig_nbformat": 4
 },
 "nbformat": 4,
 "nbformat_minor": 2
}
