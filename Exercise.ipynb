{
 "cells": [
  {
   "cell_type": "code",
   "execution_count": 19,
   "metadata": {},
   "outputs": [
    {
     "name": "stdout",
     "output_type": "stream",
     "text": [
      "20.983987603305785\n",
      "True\n"
     ]
    }
   ],
   "source": [
    "# weight, height\n",
    "weight = 65\n",
    "height = 1.76\n",
    "bmi = weight / (height ** 2)\n",
    "print(bmi)\n",
    "\n",
    "# Even or Odd\n",
    "x = 9\n",
    "is_odd = x % 2 != 0\n",
    "print(is_odd)"
   ]
  },
  {
   "cell_type": "code",
   "execution_count": 28,
   "metadata": {},
   "outputs": [
    {
     "name": "stdout",
     "output_type": "stream",
     "text": [
      "admin1234$\n",
      "password is valid\n"
     ]
    }
   ],
   "source": [
    "import string\n",
    "# password = input(\"Enter password: \")\n",
    "password = 'admin1234$'\n",
    "print(password)\n",
    "\n",
    "# check if password is valid\n",
    "# 1. length >= 8 \n",
    "is_valid_length = len(password) >= 8\n",
    "\n",
    "# 2. with at least one special character\n",
    "has_special_char = any(map(password.__contains__, list(string.punctuation)))\n",
    "\n",
    "# 3. at least one number\n",
    "number_list = [\"0\", \"1\", \"2\", \"3\", \"4\", \"5,\", \"6\", \"7\", \"8\", \"9\"]\n",
    "has_number = any(map(password.__contains__, number_list))\n",
    "\n",
    "# if valid, print \"password is valid\", otherwise print \"invalid password\"\n",
    "if is_valid_length and has_special_char and has_number:\n",
    "  print(\"password is valid\")\n",
    "else:\n",
    "  print(\"invalid password\")"
   ]
  },
  {
   "cell_type": "code",
   "execution_count": 33,
   "metadata": {},
   "outputs": [
    {
     "name": "stdout",
     "output_type": "stream",
     "text": [
      "leap year\n"
     ]
    }
   ],
   "source": [
    "year = 2024\n",
    "# divided by 400 -> leap year\n",
    "# divide by 100 -> not a leap year\n",
    "# divided by 4 -> leap year\n",
    "if year % 400 == 0:\n",
    "  print('leap year')\n",
    "elif year % 100 == 0:\n",
    "  print('Not leap year')\n",
    "elif year % 4 == 0:\n",
    "  print('leap year')\n",
    "else:\n",
    "  print('Not leap year')"
   ]
  },
  {
   "cell_type": "code",
   "execution_count": 34,
   "metadata": {},
   "outputs": [
    {
     "name": "stdout",
     "output_type": "stream",
     "text": [
      "leap year\n"
     ]
    }
   ],
   "source": [
    "year = 2024\n",
    "\n",
    "if year % 4 == 0:\n",
    "  if year % 100 == 0:\n",
    "    if year % 400 == 0:\n",
    "      print('leap year') # 2000\n",
    "    else:\n",
    "      print('Not leap year') # 2100\n",
    "  else:\n",
    "    print('leap year') # 2024\n",
    "else:\n",
    "  print('Not leap year') # 2023"
   ]
  }
 ],
 "metadata": {
  "kernelspec": {
   "display_name": "Python (bootcamp-env)",
   "language": "python",
   "name": "bootcamp-env"
  },
  "orig_nbformat": 4
 },
 "nbformat": 4,
 "nbformat_minor": 2
}
