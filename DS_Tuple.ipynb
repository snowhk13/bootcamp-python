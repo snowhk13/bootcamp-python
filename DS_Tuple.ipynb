{
 "cells": [
  {
   "cell_type": "code",
   "execution_count": 8,
   "metadata": {},
   "outputs": [
    {
     "name": "stdout",
     "output_type": "stream",
     "text": [
      "('John', 'Jacky', 'Jennie')\n",
      "<class 'tuple'>\n",
      "('apple', 3, True, 'Male')\n",
      "3\n",
      "<class 'int'>\n",
      "<class 'tuple'>\n",
      "('John', 'Lau', 19, 'johnlau@gmail.com')\n"
     ]
    }
   ],
   "source": [
    "# list -> []\n",
    "# set -> {}\n",
    "# tuple -> () (ordered, immutable, more than one element)\n",
    "names = (\"John\", \"Jacky\", \"Jennie\")\n",
    "print(names)\n",
    "print(type(names))\n",
    "\n",
    "strings = (\"apple\", 3, True, \"Male\")\n",
    "print(strings)\n",
    "\n",
    "print(strings[1]) # 3 (read)\n",
    "# string[1] = \"Jacky\" # write (not allowed)\n",
    "\n",
    "age = (5)\n",
    "print(type(age)) # int\n",
    "\n",
    "age = (5, 3)\n",
    "print(type(age)) # tuple\n",
    "\n",
    "# Similar to Java record\n",
    "staff1 = (\"John\", \"Lau\", 19, \"johnlau@gmail.com\")\n",
    "print(staff1)\n",
    "\n"
   ]
  }
 ],
 "metadata": {
  "kernelspec": {
   "display_name": "Python (bootcamp-env)",
   "language": "python",
   "name": "bootcamp-env"
  },
  "language_info": {
   "codemirror_mode": {
    "name": "ipython",
    "version": 3
   },
   "file_extension": ".py",
   "mimetype": "text/x-python",
   "name": "python",
   "nbconvert_exporter": "python",
   "pygments_lexer": "ipython3",
   "version": "3.13.3"
  },
  "orig_nbformat": 4
 },
 "nbformat": 4,
 "nbformat_minor": 2
}
