{
 "cells": [
  {
   "cell_type": "code",
   "execution_count": 37,
   "id": "7486c2db-b05f-4b39-8cd6-4b15674322ea",
   "metadata": {},
   "outputs": [
    {
     "name": "stdout",
     "output_type": "stream",
     "text": [
      "3\n",
      "13\n",
      "20\n",
      "3.3333333333333335\n",
      "<class 'float'>\n",
      "5.0\n",
      "<class 'float'>\n",
      "<class 'int'>\n",
      "6.6\n",
      "<class 'float'>\n",
      "27.5\n",
      "100\n"
     ]
    }
   ],
   "source": [
    "x = 3\n",
    "print(x)\n",
    "\n",
    "y = 7 + 3 * 2\n",
    "print(y)\n",
    "\n",
    "z = (7 + 3) * 2\n",
    "print(z)\n",
    "\n",
    "a = 10 / 3\n",
    "print(a)\n",
    "print(type(a))\n",
    "\n",
    "b = 10 / 2\n",
    "print(b)\n",
    "print(type(b))\n",
    "\n",
    "c = 10 + 3\n",
    "print(type(c))\n",
    "\n",
    "d = 10 - 3.4\n",
    "print(d)\n",
    "print(type(d))\n",
    "\n",
    "e = (10 - 4.5) / 2 * 10\n",
    "print(e)\n",
    "\n",
    "# ZeroDivisionError\n",
    "# f = 10 / 0\n",
    "# print(f)\n",
    "\n",
    "g = 10 ** 2\n",
    "print(g)\n"
   ]
  },
  {
   "cell_type": "code",
   "execution_count": 38,
   "id": "5b45c6fe-7786-47f8-93ef-2c5c09cdfe52",
   "metadata": {},
   "outputs": [
    {
     "name": "stdout",
     "output_type": "stream",
     "text": [
      "False\n",
      "True\n",
      "False\n",
      "True\n"
     ]
    }
   ],
   "source": [
    "x = 8\n",
    "y = 9.7\n",
    "print(x == y)\n",
    "z = 9.7\n",
    "print(z == y)\n",
    "k = 9.3\n",
    "print(y == k) # False\n",
    "print(type(y) == type(k)) # True"
   ]
  },
  {
   "cell_type": "code",
   "execution_count": 39,
   "id": "bf1e8c08",
   "metadata": {},
   "outputs": [
    {
     "name": "stdout",
     "output_type": "stream",
     "text": [
      "hello\n",
      "<class 'str'>\n",
      "Tommy\n",
      "<class 'str'>\n",
      "Jacky\n",
      "<class 'str'>\n",
      "10\n",
      "<class 'int'>\n"
     ]
    }
   ],
   "source": [
    "q = 'hello'\n",
    "print(q)\n",
    "print(type(q))\n",
    "\n",
    "name = \"Tommy\"\n",
    "print(name)\n",
    "print(type(name))\n",
    "\n",
    "name = 'Jacky'\n",
    "print(name)\n",
    "print(type(name))\n",
    "\n",
    "name = 10\n",
    "print(name)\n",
    "print(type(name))\n",
    "\n"
   ]
  },
  {
   "cell_type": "code",
   "execution_count": 40,
   "id": "521f6347",
   "metadata": {},
   "outputs": [
    {
     "name": "stdout",
     "output_type": "stream",
     "text": [
      "Sally\n",
      "Petter\n",
      "10\n",
      "12\n",
      "False\n"
     ]
    }
   ],
   "source": [
    "staff_name = 'Sally'\n",
    "_staff_name = 'Petter'\n",
    "print(staff_name)\n",
    "print(_staff_name)\n",
    "\n",
    "# Can't\n",
    "# 2name = 'Jacky'\n",
    "# print(2name)\n",
    "\n",
    "# staff-name = 'Oscar'\n",
    "# print(staff-name)\n",
    "\n",
    "# Case-sensitive\n",
    "h = 10\n",
    "H = 12\n",
    "print(h)\n",
    "print(H)\n",
    "print(h == H)\n",
    "\n"
   ]
  },
  {
   "cell_type": "code",
   "execution_count": 41,
   "id": "fff6d6db",
   "metadata": {},
   "outputs": [
    {
     "name": "stdout",
     "output_type": "stream",
     "text": [
      "<class 'int'>\n",
      "3\n",
      "<class 'str'>\n",
      "Age: 3\n"
     ]
    }
   ],
   "source": [
    "# Stron Type Language\n",
    "x = 3\n",
    "print(type(x)) \n",
    "s = str(x)\n",
    "print(s)\n",
    "print(type(s)) \n",
    "\n",
    "# Java: String + any type -> String\n",
    "# Python: String + String\n",
    "print(\"Age: \" + str(x))\n"
   ]
  },
  {
   "cell_type": "code",
   "execution_count": 42,
   "id": "16d80eae",
   "metadata": {},
   "outputs": [
    {
     "name": "stdout",
     "output_type": "stream",
     "text": [
      "g is greater than 7\n",
      "g is equal to 8\n",
      "g is not equal to 10\n"
     ]
    }
   ],
   "source": [
    "# >, <, >=, <=, !=, ==\n",
    "g = 8\n",
    "if g > 10:\n",
    "  print('g is greater than 10')\n",
    "elif g >= 7:\n",
    "  print('g is greater than 7')\n",
    "\n",
    "if g == 8:\n",
    "  print('g is equal to 8')\n",
    "\n",
    "if g != 10:\n",
    "  print('g is not equal to 10')"
   ]
  },
  {
   "cell_type": "code",
   "execution_count": 43,
   "id": "e0f7071b",
   "metadata": {},
   "outputs": [
    {
     "name": "stdout",
     "output_type": "stream",
     "text": [
      "Jennie.\n",
      "Not Jenny.\n"
     ]
    }
   ],
   "source": [
    "name = 'Jennie'\n",
    "if name == 'Jennie':\n",
    "  print('Jennie.')\n",
    "\n",
    "if name != 'Jenny':\n",
    "  print('Not Jenny.')"
   ]
  },
  {
   "cell_type": "code",
   "execution_count": 46,
   "id": "1bef81ac",
   "metadata": {},
   "outputs": [
    {
     "name": "stdout",
     "output_type": "stream",
     "text": [
      "3\n",
      "3.14\n",
      "3.14\n",
      "3.15\n",
      "4.0\n",
      "9.18958683997628\n",
      "9.18958683997628\n",
      "24\n",
      "4\n",
      "3\n",
      "3.141592653589793\n",
      "95.03\n"
     ]
    }
   ],
   "source": [
    "import math\n",
    "\n",
    "x = -3\n",
    "print(abs(x))\n",
    "\n",
    "print(round(3.14159, 2))\n",
    "print(round(3.14459, 2))\n",
    "print(round(3.14559, 2))\n",
    "\n",
    "print(math.sqrt(16))\n",
    "\n",
    "print(2 ** 3.2)\n",
    "print(math.pow(2, 3.2))\n",
    "# 4 x 3 x 2 x 1\n",
    "print(math.factorial(4))\n",
    "\n",
    "print(math.ceil(3.2)) # 4\n",
    "print(math.floor(3.2)) # 3\n",
    "print(math.pi)\n",
    "\n",
    "radius = 5.5\n",
    "circle_area = round(radius ** 2 * math.pi, 2)\n",
    "print(circle_area)\n",
    "\n"
   ]
  },
  {
   "cell_type": "code",
   "execution_count": 53,
   "id": "c984c5f7",
   "metadata": {},
   "outputs": [
    {
     "name": "stdout",
     "output_type": "stream",
     "text": [
      "36.42857142857143\n",
      "40\n",
      "31.314837499483335\n",
      "980.6190476190476\n"
     ]
    }
   ],
   "source": [
    "import statistics\n",
    "\n",
    "data = [90, 40, 50, 20, 8, -3, 50]\n",
    "\n",
    "print(statistics.mean(data))\n",
    "print(statistics.median(data)) # sorting + middle value\n",
    "print(statistics.stdev(data))\n",
    "print(statistics.variance(data))\n",
    "\n"
   ]
  },
  {
   "cell_type": "code",
   "execution_count": 57,
   "id": "8f5de3b4",
   "metadata": {},
   "outputs": [
    {
     "name": "stdout",
     "output_type": "stream",
     "text": [
      "4\n",
      "4.4\n",
      "12\n"
     ]
    }
   ],
   "source": [
    "total_student_number = 132\n",
    "class_lot = 30\n",
    "\n",
    "print(total_student_number // class_lot)\n",
    "print(total_student_number / class_lot)\n",
    "print(total_student_number % class_lot)"
   ]
  },
  {
   "cell_type": "code",
   "execution_count": 60,
   "id": "1df55f47",
   "metadata": {},
   "outputs": [
    {
     "name": "stdout",
     "output_type": "stream",
     "text": [
      "5.0\n"
     ]
    }
   ],
   "source": [
    "a = 3\n",
    "b = 4\n",
    "\n",
    "hypotenuse = math.sqrt(a**2 + b**2)\n",
    "print(hypotenuse)"
   ]
  }
 ],
 "metadata": {
  "kernelspec": {
   "display_name": "Python (bootcamp-env)",
   "language": "python",
   "name": "bootcamp-env"
  },
  "language_info": {
   "codemirror_mode": {
    "name": "ipython",
    "version": 3
   },
   "file_extension": ".py",
   "mimetype": "text/x-python",
   "name": "python",
   "nbconvert_exporter": "python",
   "pygments_lexer": "ipython3",
   "version": "3.13.3"
  }
 },
 "nbformat": 4,
 "nbformat_minor": 5
}
