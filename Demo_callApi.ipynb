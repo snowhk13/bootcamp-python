{
 "cells": [
  {
   "cell_type": "code",
   "execution_count": 63,
   "id": "1d3dcf94",
   "metadata": {},
   "outputs": [
    {
     "name": "stdout",
     "output_type": "stream",
     "text": [
      "  symbol        date        open        high         low       close  \\\n",
      "0   TSLA  2022-07-07  233.919998  245.363327  232.210007  244.543335   \n",
      "1   TSLA  2022-07-08  242.333328  254.979996  241.160004  250.763336   \n",
      "2   TSLA  2022-07-11  252.103333  253.063339  233.626663  234.343338   \n",
      "3   TSLA  2022-07-12  236.846664  239.773331  228.369995  233.070007   \n",
      "4   TSLA  2022-07-13  225.500000  242.059998  225.033340  237.039993   \n",
      "\n",
      "      volume  \n",
      "0   81930600  \n",
      "1  101854200  \n",
      "2   99241200  \n",
      "3   87930900  \n",
      "4   97954500  \n"
     ]
    }
   ],
   "source": [
    "import pandas as pd\n",
    "import requests\n",
    "from pandas import json_normalize\n",
    "\n",
    "headers = {\n",
    "  \"User-Agent\": \"Mozilla/5.0\"\n",
    "}\n",
    "\n",
    "url = \"https://query1.finance.yahoo.com/v8/finance/chart/TSLA?period1=1657237004&period2=1751931404&interval=1d&events=history\"\n",
    "response = requests.get(url,headers=headers)\n",
    "data = response.json()\n",
    "\n",
    "result = data[\"chart\"][\"result\"][0]\n",
    "\n",
    "quote = result[\"indicators\"][\"quote\"][0]\n",
    "symbol = result[\"meta\"][\"symbol\"]\n",
    "timestamp = result[\"timestamp\"]\n",
    "close_list = quote[\"close\"]\n",
    "open_list = quote[\"open\"]\n",
    "low_list = quote[\"low\"]\n",
    "high_list = quote[\"high\"]\n",
    "volume_list = quote[\"volume\"]\n",
    "\n",
    "\n",
    "\n",
    "df = pd.DataFrame({\n",
    "    'timestamp': timestamp,\n",
    "    'open': quote['open'],\n",
    "    'high': quote['high'],\n",
    "    'low': quote['low'],\n",
    "    'close': quote['close'],\n",
    "    'volume': quote['volume']\n",
    "})\n",
    "\n",
    "# 加入股票代碼\n",
    "df['symbol'] = symbol\n",
    "\n",
    "# 將 timestamp 轉為可讀日期\n",
    "df['date'] = pd.to_datetime(df['timestamp'], unit='s').dt.date\n",
    "\n",
    "# 重新排序欄位\n",
    "df = df[['symbol', 'date', 'open', 'high', 'low', 'close', 'volume']]\n",
    "\n",
    "# 顯示前幾筆\n",
    "print(df.head())\n",
    "\n",
    "\n",
    "\n",
    "# print(symbol)\n",
    "# print(timestamp)\n",
    "# print(close_list)\n",
    "# print(open_list )\n",
    "# print(low_list)\n",
    "# print(high_list)\n",
    "# print(volume_list)\n",
    "\n",
    "\n"
   ]
  },
  {
   "cell_type": "code",
   "execution_count": 1,
   "id": "dac0bfe2",
   "metadata": {},
   "outputs": [
    {
     "name": "stdout",
     "output_type": "stream",
     "text": [
      "750\n",
      "750\n",
      "750\n",
      "750\n",
      "750\n",
      "750\n",
      "750\n",
      "750\n",
      "750\n",
      "750\n",
      "750\n",
      "750\n",
      "750\n",
      "750\n",
      "750\n",
      "750\n",
      "750\n",
      "750\n",
      "750\n",
      "750\n",
      "750\n",
      "750\n",
      "750\n",
      "750\n",
      "750\n",
      "750\n",
      "750\n",
      "750\n",
      "750\n",
      "750\n",
      "750\n",
      "750\n",
      "750\n",
      "750\n",
      "750\n",
      "750\n",
      "750\n",
      "750\n",
      "750\n",
      "750\n",
      "750\n",
      "750\n",
      "750\n",
      "750\n",
      "750\n",
      "750\n",
      "750\n",
      "750\n",
      "750\n",
      "750\n",
      "750\n",
      "750\n",
      "750\n",
      "750\n",
      "750\n",
      "750\n",
      "750\n",
      "750\n",
      "750\n",
      "750\n",
      "750\n",
      "750\n",
      "750\n",
      "750\n",
      "750\n",
      "750\n",
      "750\n",
      "750\n",
      "750\n",
      "750\n",
      "750\n",
      "750\n",
      "750\n",
      "750\n",
      "750\n",
      "750\n",
      "750\n",
      "750\n",
      "750\n",
      "750\n",
      "750\n",
      "750\n",
      "750\n",
      "750\n",
      "750\n",
      "750\n",
      "750\n",
      "750\n",
      "750\n",
      "750\n",
      "750\n",
      "750\n",
      "750\n",
      "750\n",
      "750\n",
      "750\n",
      "750\n",
      "750\n",
      "750\n",
      "750\n",
      "766\n",
      "766\n",
      "766\n",
      "766\n",
      "766\n",
      "36\n",
      "36\n",
      "36\n",
      "36\n",
      "36\n",
      "766\n",
      "766\n",
      "766\n",
      "766\n",
      "766\n",
      "766\n",
      "766\n",
      "766\n",
      "766\n",
      "766\n",
      "766\n",
      "766\n",
      "766\n",
      "766\n",
      "766\n",
      "766\n",
      "766\n",
      "766\n",
      "766\n",
      "766\n",
      "766\n",
      "766\n",
      "766\n",
      "766\n",
      "766\n",
      "766\n",
      "766\n",
      "766\n",
      "766\n",
      "766\n",
      "766\n",
      "766\n",
      "766\n",
      "766\n",
      "766\n",
      "766\n",
      "766\n",
      "766\n",
      "766\n",
      "766\n",
      "278\n",
      "278\n",
      "278\n",
      "278\n",
      "278\n",
      "743\n",
      "743\n",
      "743\n",
      "743\n",
      "743\n",
      "766\n",
      "766\n",
      "766\n",
      "766\n",
      "766\n",
      "82\n",
      "82\n",
      "82\n",
      "82\n",
      "82\n",
      "766\n",
      "766\n",
      "766\n",
      "766\n",
      "766\n",
      "766\n",
      "766\n",
      "766\n",
      "766\n",
      "766\n",
      "766\n",
      "766\n",
      "766\n",
      "766\n",
      "766\n",
      "766\n",
      "766\n",
      "766\n",
      "766\n",
      "766\n",
      "766\n",
      "766\n",
      "766\n",
      "766\n",
      "766\n",
      "766\n",
      "766\n",
      "766\n",
      "766\n",
      "766\n"
     ]
    }
   ],
   "source": [
    "import pandas as pd\n",
    "import requests\n",
    "\n",
    "symbols = ['1299.HK', '1788.HK', '9988.HK', '0175.HK', '2800.HK', '3033.HK', '1810.HK', '3690.HK', \\\n",
    " '0700.HK', '0981.HK', '9868.HK', '0939.HK', '9926.HK', '2318.HK', '1211.HK', '1024.HK', '9992.HK', \\\n",
    " '0241.HK', '0388.HK', '1177.HK','TSLA','CRCL','NVDA','PLTR','TSM','AAPL','SQQQ','RGC','HOOD','BIDU', \\\n",
    " 'TEM','TSLL','BBAI','CRWV','WOLF','PROK','AMD','KC','INTC','TQQQ']\n",
    "\n",
    "all_data = []\n",
    "\n",
    "headers = {\n",
    "    \"User-Agent\": \"Mozilla/5.0\"\n",
    "}\n",
    "\n",
    "# 設定時間區間（這邊是從2022到2025）\n",
    "period1 = 1657237004\n",
    "period2 = 1753679645\n",
    "interval = '1d'\n",
    "\n",
    "for symbol in symbols:\n",
    "    url = f\"https://query1.finance.yahoo.com/v8/finance/chart/{symbol}?period1={period1}&period2={period2}&interval={interval}&events=history\"\n",
    "    \n",
    "    response = requests.get(url, headers=headers)\n",
    "    data = response.json()\n",
    "    \n",
    "    try:\n",
    "        result = data[\"chart\"][\"result\"][0]\n",
    "        quote = result[\"indicators\"][\"quote\"][0]\n",
    "        timestamp = result[\"timestamp\"]\n",
    "        print(len(quote['open']))\n",
    "        print(len(quote['high']))\n",
    "        print(len(quote['low']))\n",
    "        print(len(quote['close']))\n",
    "        print(len(quote['volume']))\n",
    "        df = pd.DataFrame({\n",
    "            'timestamp': timestamp,\n",
    "            'open': quote['open'],\n",
    "            'high': quote['high'],\n",
    "            'low': quote['low'],\n",
    "            'close': quote['close'],\n",
    "            'volume': quote['volume']\n",
    "        })\n",
    "\n",
    "        df['code'] = symbol\n",
    "        df['date'] = pd.to_datetime(df['timestamp'], unit='s').dt.strftime('%Y-%m-%d')\n",
    "        df = df[['code', 'date', 'open', 'high', 'low', 'close', 'volume']]\n",
    "        \n",
    "        \n",
    "        all_data.append(df)\n",
    "\n",
    "    except Exception as e:\n",
    "        print(f\"⚠️ 無法處理 {code}：{e}\")\n",
    "\n",
    "# 合併所有股票的表格\n",
    "merged_df = pd.concat(all_data, ignore_index=True)\n",
    "\n",
    "# 顯示前幾筆\n",
    "# print(merged_df.head())\n",
    "\n",
    "merged_df.to_csv('stock_prices_all.csv', index=False)"
   ]
  },
  {
   "cell_type": "code",
   "execution_count": 68,
   "id": "37e5a319",
   "metadata": {},
   "outputs": [
    {
     "data": {
      "image/png": "[encoded data removed]",
      "text/plain": [
       "<Figure size 640x480 with 1 Axes>"
      ]
     },
     "metadata": {},
     "output_type": "display_data"
    }
   ],
   "source": [
    "import matplotlib.pyplot as plt\n",
    "\n",
    "# 選擇要畫圖的 symbol（也可以畫全部）\n",
    "selected_symbols = ['TSLA', 'AAPL', 'MSFT','NVDA']\n",
    "\n",
    "# 過濾資料\n",
    "for symbol in selected_symbols:\n",
    "    symbol_df = merged_df[merged_df['symbol'] == symbol]\n",
    "    plt.plot(symbol_df['date'], symbol_df['close'], label=symbol)\n",
    "\n",
    "plt.title('Stock Close Prices')\n",
    "plt.xlabel('Date')\n",
    "plt.ylabel('Close Price')\n",
    "plt.legend()\n",
    "plt.xticks(rotation=45)\n",
    "plt.tight_layout()\n",
    "plt.grid(True)\n",
    "plt.show()\n"
   ]
  },
  {
   "cell_type": "code",
   "execution_count": 71,
   "id": "04d27051",
   "metadata": {},
   "outputs": [
    {
     "data": {
      "application/vnd.plotly.v1+json": {
       "config": {
        "plotlyServerURL": "https://plot.ly"
       },
       "data": [
        {
         "mode": "lines",
         "name": "TSLA",
         "type": "scatter",
         "x": [
          "2022-07-07",
          "2022-07-08",
          "2022-07-11",
          "2022-07-12",
          "2022-07-13",
          "2022-07-14",
          "2022-07-15",
          "2022-07-18",
          "2022-07-19",
          "2022-07-20",
          "2022-07-21",
          "2022-07-22",
          "2022-07-25",
          "2022-07-26",
          "2022-07-27",
          "2022-07-28",
          "2022-07-29",
          "2022-08-01",
          "2022-08-02",
          "2022-08-03",
          "2022-08-04",
          "2022-08-05",
          "2022-08-08",
          "2022-08-09",
          "2022-08-10",
          "2022-08-11",
          "2022-08-12",
          "2022-08-15",
          "2022-08-16",
          "2022-08-17",
          "2022-08-18",
          "2022-08-19",
          "2022-08-22",
          "2022-08-23",
          "2022-08-24",
          "2022-08-25",
          "2022-08-26",
          "2022-08-29",
          "2022-08-30",
          "2022-08-31",
          "2022-09-01",
          "2022-09-02",
          "2022-09-06",
          "2022-09-07",
          "2022-09-08",
          "2022-09-09",
          "2022-09-12",
          "2022-09-13",
          "2022-09-14",
          "2022-09-15",
          "2022-09-16",
          "2022-09-19",
          "2022-09-20",
          "2022-09-21",
          "2022-09-22",
          "2022-09-23",
          "2022-09-26",
          "2022-09-27",
          "2022-09-28",
          "2022-09-29",
          "2022-09-30",
          "2022-10-03",
          "2022-10-04",
          "2022-10-05",
          "2022-10-06",
          "2022-10-07",
          "2022-10-10",
          "2022-10-11",
          "2022-10-12",
          "2022-10-13",
          "2022-10-14",
          "2022-10-17",
          "2022-10-18",
          "2022-10-19",
          "2022-10-20",
          "2022-10-21",
          "2022-10-24",
          "2022-10-25",
          "2022-10-26",
          "2022-10-27",
          "2022-10-28",
          "2022-10-31",
          "2022-11-01",
          "2022-11-02",
          "2022-11-03",
          "2022-11-04",
          "2022-11-07",
          "2022-11-08",
          "2022-11-09",
          "2022-11-10",
          "2022-11-11",
          "2022-11-14",
          "2022-11-15",
          "2022-11-16",
          "2022-11-17",
          "2022-11-18",
          "2022-11-21",
          "2022-11-22",
          "2022-11-23",
          "2022-11-25",
          "2022-11-28",
          "2022-11-29",
          "2022-11-30",
          "2022-12-01",
          "2022-12-02",
          "2022-12-05",
          "2022-12-06",
          "2022-12-07",
          "2022-12-08",
          "2022-12-09",
          "2022-12-12",
          "2022-12-13",
          "2022-12-14",
          "2022-12-15",
          "2022-12-16",
          "2022-12-19",
          "2022-12-20",
          "2022-12-21",
          "2022-12-22",
          "2022-12-23",
          "2022-12-27",
          "2022-12-28",
          "2022-12-29",
          "2022-12-30",
          "2023-01-03",
          "2023-01-04",
          "2023-01-05",
          "2023-01-06",
          "2023-01-09",
          "2023-01-10",
          "2023-01-11",
          "2023-01-12",
          "2023-01-13",
          "2023-01-17",
          "2023-01-18",
          "2023-01-19",
          "2023-01-20",
          "2023-01-23",
          "2023-01-24",
          "2023-01-25",
          "2023-01-26",
          "2023-01-27",
          "2023-01-30",
          "2023-01-31",
          "2023-02-01",
          "2023-02-02",
          "2023-02-03",
          "2023-02-06",
          "2023-02-07",
          "2023-02-08",
          "2023-02-09",
          "2023-02-10",
          "2023-02-13",
          "2023-02-14",
          "2023-02-15",
          "2023-02-16",
          "2023-02-17",
          "2023-02-21",
          "2023-02-22",
          "2023-02-23",
          "2023-02-24",
          "2023-02-27",
          "2023-02-28",
          "2023-03-01",
          "2023-03-02",
          "2023-03-03",
          "2023-03-06",
          "2023-03-07",
          "2023-03-08",
          "2023-03-09",
          "2023-03-10",
          "2023-03-13",
          "2023-03-14",
          "2023-03-15",
          "2023-03-16",
          "2023-03-17",
          "2023-03-20",
          "2023-03-21",
          "2023-03-22",
          "2023-03-23",
          "2023-03-24",
          "2023-03-27",
          "2023-03-28",
          "2023-03-29",
          "2023-03-30",
          "2023-03-31",
          "2023-04-03",
          "2023-04-04",
          "2023-04-05",
          "2023-04-06",
          "2023-04-10",
          "2023-04-11",
          "2023-04-12",
          "2023-04-13",
          "2023-04-14",
          "2023-04-17",
          "2023-04-18",
          "2023-04-19",
          "2023-04-20",
          "2023-04-21",
          "2023-04-24",
          "2023-04-25",
          "2023-04-26",
          "2023-04-27",
          "2023-04-28",
          "2023-05-01",
          "2023-05-02",
          "2023-05-03",
          "2023-05-04",
          "2023-05-05",
          "2023-05-08",
          "2023-05-09",
          "2023-05-10",
          "2023-05-11",
          "2023-05-12",
          "2023-05-15",
          "2023-05-16",
          "2023-05-17",
          "2023-05-18",
          "2023-05-19",
          "2023-05-22",
          "2023-05-23",
          "2023-05-24",
          "2023-05-25",
          "2023-05-26",
          "2023-05-30",
          "2023-05-31",
          "2023-06-01",
          "2023-06-02",
          "2023-06-05",
          "2023-06-06",
          "2023-06-07",
          "2023-06-08",
          "2023-06-09",
          "2023-06-12",
          "2023-06-13",
          "2023-06-14",
          "2023-06-15",
          "2023-06-16",
          "2023-06-20",
          "2023-06-21",
          "2023-06-22",
          "2023-06-23",
          "2023-06-26",
          "2023-06-27",
          "2023-06-28",
          "2023-06-29",
          "2023-06-30",
          "2023-07-03",
          "2023-07-05",
          "2023-07-06",
          "2023-07-07",
          "2023-07-10",
          "2023-07-11",
          "2023-07-12",
          "2023-07-13",
          "2023-07-14",
          "2023-07-17",
          "2023-07-18",
          "2023-07-19",
          "2023-07-20",
          "2023-07-21",
          "2023-07-24",
          "2023-07-25",
          "2023-07-26",
          "2023-07-27",
          "2023-07-28",
          "2023-07-31",
          "2023-08-01",
          "2023-08-02",
          "2023-08-03",
          "2023-08-04",
          "2023-08-07",
          "2023-08-08",
          "2023-08-09",
          "2023-08-10",
          "2023-08-11",
          "2023-08-14",
          "2023-08-15",
          "2023-08-16",
          "2023-08-17",
          "2023-08-18",
          "2023-08-21",
          "2023-08-22",
          "2023-08-23",
          "2023-08-24",
          "2023-08-25",
          "2023-08-28",
          "2023-08-29",
          "2023-08-30",
          "2023-08-31",
          "2023-09-01",
          "2023-09-05",
          "2023-09-06",
          "2023-09-07",
          "2023-09-08",
          "2023-09-11",
          "2023-09-12",
          "2023-09-13",
          "2023-09-14",
          "2023-09-15",
          "2023-09-18",
          "2023-09-19",
          "2023-09-20",
          "2023-09-21",
          "2023-09-22",
          "2023-09-25",
          "2023-09-26",
          "2023-09-27",
          "2023-09-28",
          "2023-09-29",
          "2023-10-02",
          "2023-10-03",
          "2023-10-04",
          "2023-10-05",
          "2023-10-06",
          "2023-10-09",
          "2023-10-10",
          "2023-10-11",
          "2023-10-12",
          "2023-10-13",
          "2023-10-16",
          "2023-10-17",
          "2023-10-18",
          "2023-10-19",
          "2023-10-20",
          "2023-10-23",
          "2023-10-24",
          "2023-10-25",
          "2023-10-26",
          "2023-10-27",
          "2023-10-30",
          "2023-10-31",
          "2023-11-01",
          "2023-11-02",
          "2023-11-03",
          "2023-11-06",
          "2023-11-07",
          "2023-11-08",
          "2023-11-09",
          "2023-11-10",
          "2023-11-13",
          "2023-11-14",
          "2023-11-15",
          "2023-11-16",
          "2023-11-17",
          "2023-11-20",
          "2023-11-21",
          "2023-11-22",
          "2023-11-24",
          "2023-11-27",
          "2023-11-28",
          "2023-11-29",
          "2023-11-30",
          "2023-12-01",
          "2023-12-04",
          "2023-12-05",
          "2023-12-06",
          "2023-12-07",
          "2023-12-08",
          "2023-12-11",
          "2023-12-12",
          "2023-12-13",
          "2023-12-14",
          "2023-12-15",
          "2023-12-18",
          "2023-12-19",
          "2023-12-20",
          "2023-12-21",
          "2023-12-22",
          "2023-12-26",
          "2023-12-27",
          "2023-12-28",
          "2023-12-29",
          "2024-01-02",
          "2024-01-03",
          "2024-01-04",
          "2024-01-05",
          "2024-01-08",
          "2024-01-09",
          "2024-01-10",
          "2024-01-11",
          "2024-01-12",
          "2024-01-16",
          "2024-01-17",
          "2024-01-18",
          "2024-01-19",
          "2024-01-22",
          "2024-01-23",
          "2024-01-24",
          "2024-01-25",
          "2024-01-26",
          "2024-01-29",
          "2024-01-30",
          "2024-01-31",
          "2024-02-01",
          "2024-02-02",
          "2024-02-05",
          "2024-02-06",
          "2024-02-07",
          "2024-02-08",
          "2024-02-09",
          "2024-02-12",
          "2024-02-13",
          "2024-02-14",
          "2024-02-15",
          "2024-02-16",
          "2024-02-20",
          "2024-02-21",
          "2024-02-22",
          "2024-02-23",
          "2024-02-26",
          "2024-02-27",
          "2024-02-28",
          "2024-02-29",
          "2024-03-01",
          "2024-03-04",
          "2024-03-05",
          "2024-03-06",
          "2024-03-07",
          "2024-03-08",
          "2024-03-11",
          "2024-03-12",
          "2024-03-13",
          "2024-03-14",
          "2024-03-15",
          "2024-03-18",
          "2024-03-19",
          "2024-03-20",
          "2024-03-21",
          "2024-03-22",
          "2024-03-25",
          "2024-03-26",
          "2024-03-27",
          "2024-03-28",
          "2024-04-01",
          "2024-04-02",
          "2024-04-03",
          "2024-04-04",
          "2024-04-05",
          "2024-04-08",
          "2024-04-09",
          "2024-04-10",
          "2024-04-11",
          "2024-04-12",
          "2024-04-15",
          "2024-04-16",
          "2024-04-17",
          "2024-04-18",
          "2024-04-19",
          "2024-04-22",
          "2024-04-23",
          "2024-04-24",
          "2024-04-25",
          "2024-04-26",
          "2024-04-29",
          "2024-04-30",
          "2024-05-01",
          "2024-05-02",
          "2024-05-03",
          "2024-05-06",
          "2024-05-07",
          "2024-05-08",
          "2024-05-09",
          "2024-05-10",
          "2024-05-13",
          "2024-05-14",
          "2024-05-15",
          "2024-05-16",
          "2024-05-17",
          "2024-05-20",
          "2024-05-21",
          "2024-05-22",
          "2024-05-23",
          "2024-05-24",
          "2024-05-28",
          "2024-05-29",
          "2024-05-30",
          "2024-05-31",
          "2024-06-03",
          "2024-06-04",
          "2024-06-05",
          "2024-06-06",
          "2024-06-07",
          "2024-06-10",
          "2024-06-11",
          "2024-06-12",
          "2024-06-13",
          "2024-06-14",
          "2024-06-17",
          "2024-06-18",
          "2024-06-20",
          "2024-06-21",
          "2024-06-24",
          "2024-06-25",
          "2024-06-26",
          "2024-06-27",
          "2024-06-28",
          "2024-07-01",
          "2024-07-02",
          "2024-07-03",
          "2024-07-05",
          "2024-07-08",
          "2024-07-09",
          "2024-07-10",
          "2024-07-11",
          "2024-07-12",
          "2024-07-15",
          "2024-07-16",
          "2024-07-17",
          "2024-07-18",
          "2024-07-19",
          "2024-07-22",
          "2024-07-23",
          "2024-07-24",
          "2024-07-25",
          "2024-07-26",
          "2024-07-29",
          "2024-07-30",
          "2024-07-31",
          "2024-08-01",
          "2024-08-02",
          "2024-08-05",
          "2024-08-06",
          "2024-08-07",
          "2024-08-08",
          "2024-08-09",
          "2024-08-12",
          "2024-08-13",
          "2024-08-14",
          "2024-08-15",
          "2024-08-16",
          "2024-08-19",
          "2024-08-20",
          "2024-08-21",
          "2024-08-22",
          "2024-08-23",
          "2024-08-26",
          "2024-08-27",
          "2024-08-28",
          "2024-08-29",
          "2024-08-30",
          "2024-09-03",
          "2024-09-04",
          "2024-09-05",
          "2024-09-06",
          "2024-09-09",
          "2024-09-10",
          "2024-09-11",
          "2024-09-12",
          "2024-09-13",
          "2024-09-16",
          "2024-09-17",
          "2024-09-18",
          "2024-09-19",
          "2024-09-20",
          "2024-09-23",
          "2024-09-24",
          "2024-09-25",
          "2024-09-26",
          "2024-09-27",
          "2024-09-30",
          "2024-10-01",
          "2024-10-02",
          "2024-10-03",
          "2024-10-04",
          "2024-10-07",
          "2024-10-08",
          "2024-10-09",
          "2024-10-10",
          "2024-10-11",
          "2024-10-14",
          "2024-10-15",
          "2024-10-16",
          "2024-10-17",
          "2024-10-18",
          "2024-10-21",
          "2024-10-22",
          "2024-10-23",
          "2024-10-24",
          "2024-10-25",
          "2024-10-28",
          "2024-10-29",
          "2024-10-30",
          "2024-10-31",
          "2024-11-01",
          "2024-11-04",
          "2024-11-05",
          "2024-11-06",
          "2024-11-07",
          "2024-11-08",
          "2024-11-11",
          "2024-11-12",
          "2024-11-13",
          "2024-11-14",
          "2024-11-15",
          "2024-11-18",
          "2024-11-19",
          "2024-11-20",
          "2024-11-21",
          "2024-11-22",
          "2024-11-25",
          "2024-11-26",
          "2024-11-27",
          "2024-11-29",
          "2024-12-02",
          "2024-12-03",
          "2024-12-04",
          "2024-12-05",
          "2024-12-06",
          "2024-12-09",
          "2024-12-10",
          "2024-12-11",
          "2024-12-12",
          "2024-12-13",
          "2024-12-16",
          "2024-12-17",
          "2024-12-18",
          "2024-12-19",
          "2024-12-20",
          "2024-12-23",
          "2024-12-24",
          "2024-12-26",
          "2024-12-27",
          "2024-12-30",
          "2024-12-31",
          "2025-01-02",
          "2025-01-03",
          "2025-01-06",
          "2025-01-07",
          "2025-01-08",
          "2025-01-10",
          "2025-01-13",
          "2025-01-14",
          "2025-01-15",
          "2025-01-16",
          "2025-01-17",
          "2025-01-21",
          "2025-01-22",
          "2025-01-23",
          "2025-01-24",
          "2025-01-27",
          "2025-01-28",
          "2025-01-29",
          "2025-01-30",
          "2025-01-31",
          "2025-02-03",
          "2025-02-04",
          "2025-02-05",
          "2025-02-06",
          "2025-02-07",
          "2025-02-10",
          "2025-02-11",
          "2025-02-12",
          "2025-02-13",
          "2025-02-14",
          "2025-02-18",
          "2025-02-19",
          "2025-02-20",
          "2025-02-21",
          "2025-02-24",
          "2025-02-25",
          "2025-02-26",
          "2025-02-27",
          "2025-02-28",
          "2025-03-03",
          "2025-03-04",
          "2025-03-05",
          "2025-03-06",
          "2025-03-07",
          "2025-03-10",
          "2025-03-11",
          "2025-03-12",
          "2025-03-13",
          "2025-03-14",
          "2025-03-17",
          "2025-03-18",
          "2025-03-19",
          "2025-03-20",
          "2025-03-21",
          "2025-03-24",
          "2025-03-25",
          "2025-03-26",
          "2025-03-27",
          "2025-03-28",
          "2025-03-31",
          "2025-04-01",
          "2025-04-02",
          "2025-04-03",
          "2025-04-04",
          "2025-04-07",
          "2025-04-08",
          "2025-04-09",
          "2025-04-10",
          "2025-04-11",
          "2025-04-14",
          "2025-04-15",
          "2025-04-16",
          "2025-04-17",
          "2025-04-21",
          "2025-04-22",
          "2025-04-23",
          "2025-04-24",
          "2025-04-25",
          "2025-04-28",
          "2025-04-29",
          "2025-04-30",
          "2025-05-01",
          "2025-05-02",
          "2025-05-05",
          "2025-05-06",
          "2025-05-07",
          "2025-05-08",
          "2025-05-09",
          "2025-05-12",
          "2025-05-13",
          "2025-05-14",
          "2025-05-15",
          "2025-05-16",
          "2025-05-19",
          "2025-05-20",
          "2025-05-21",
          "2025-05-22",
          "2025-05-23",
          "2025-05-27",
          "2025-05-28",
          "2025-05-29",
          "2025-05-30",
          "2025-06-02",
          "2025-06-03",
          "2025-06-04",
          "2025-06-05",
          "2025-06-06",
          "2025-06-09",
          "2025-06-10",
          "2025-06-11",
          "2025-06-12",
          "2025-06-13",
          "2025-06-16",
          "2025-06-17",
          "2025-06-18",
          "2025-06-20",
          "2025-06-23",
          "2025-06-24",
          "2025-06-25",
          "2025-06-26",
          "2025-06-27",
          "2025-06-30",
          "2025-07-01",
          "2025-07-02",
          "2025-07-03",
          "2025-07-07"
         ],
         "y": {
          "bdata": "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",
          "dtype": "f8"
         }
        }
       ],
       "layout": {
        "height": 600,
        "hovermode": "x unified",
        "template": {
         "data": {
          "bar": [
           {
            "error_x": {
             "color": "#f2f5fa"
            },
            "error_y": {
             "color": "#f2f5fa"
            },
            "marker": {
             "line": {
              "color": "rgb(17,17,17)",
              "width": 0.5
             },
             "pattern": {
              "fillmode": "overlay",
              "size": 10,
              "solidity": 0.2
             }
            },
            "type": "bar"
           }
          ],
          "barpolar": [
           {
            "marker": {
             "line": {
              "color": "rgb(17,17,17)",
              "width": 0.5
             },
             "pattern": {
              "fillmode": "overlay",
              "size": 10,
              "solidity": 0.2
             }
            },
            "type": "barpolar"
           }
          ],
          "carpet": [
           {
            "aaxis": {
             "endlinecolor": "#A2B1C6",
             "gridcolor": "#506784",
             "linecolor": "#506784",
             "minorgridcolor": "#506784",
             "startlinecolor": "#A2B1C6"
            },
            "baxis": {
             "endlinecolor": "#A2B1C6",
             "gridcolor": "#506784",
             "linecolor": "#506784",
             "minorgridcolor": "#506784",
             "startlinecolor": "#A2B1C6"
            },
            "type": "carpet"
           }
          ],
          "choropleth": [
           {
            "colorbar": {
             "outlinewidth": 0,
             "ticks": ""
            },
            "type": "choropleth"
           }
          ],
          "contour": [
           {
            "colorbar": {
             "outlinewidth": 0,
             "ticks": ""
            },
            "colorscale": [
             [
              0,
              "#0d0887"
             ],
             [
              0.1111111111111111,
              "#46039f"
             ],
             [
              0.2222222222222222,
              "#7201a8"
             ],
             [
              0.3333333333333333,
              "#9c179e"
             ],
             [
              0.4444444444444444,
              "#bd3786"
             ],
             [
              0.5555555555555556,
              "#d8576b"
             ],
             [
              0.6666666666666666,
              "#ed7953"
             ],
             [
              0.7777777777777778,
              "#fb9f3a"
             ],
             [
              0.8888888888888888,
              "#fdca26"
             ],
             [
              1,
              "#f0f921"
             ]
            ],
            "type": "contour"
           }
          ],
          "contourcarpet": [
           {
            "colorbar": {
             "outlinewidth": 0,
             "ticks": ""
            },
            "type": "contourcarpet"
           }
          ],
          "heatmap": [
           {
            "colorbar": {
             "outlinewidth": 0,
             "ticks": ""
            },
            "colorscale": [
             [
              0,
              "#0d0887"
             ],
             [
              0.1111111111111111,
              "#46039f"
             ],
             [
              0.2222222222222222,
              "#7201a8"
             ],
             [
              0.3333333333333333,
              "#9c179e"
             ],
             [
              0.4444444444444444,
              "#bd3786"
             ],
             [
              0.5555555555555556,
              "#d8576b"
             ],
             [
              0.6666666666666666,
              "#ed7953"
             ],
             [
              0.7777777777777778,
              "#fb9f3a"
             ],
             [
              0.8888888888888888,
              "#fdca26"
             ],
             [
              1,
              "#f0f921"
             ]
            ],
            "type": "heatmap"
           }
          ],
          "histogram": [
           {
            "marker": {
             "pattern": {
              "fillmode": "overlay",
              "size": 10,
              "solidity": 0.2
             }
            },
            "type": "histogram"
           }
          ],
          "histogram2d": [
           {
            "colorbar": {
             "outlinewidth": 0,
             "ticks": ""
            },
            "colorscale": [
             [
              0,
              "#0d0887"
             ],
             [
              0.1111111111111111,
              "#46039f"
             ],
             [
              0.2222222222222222,
              "#7201a8"
             ],
             [
              0.3333333333333333,
              "#9c179e"
             ],
             [
              0.4444444444444444,
              "#bd3786"
             ],
             [
              0.5555555555555556,
              "#d8576b"
             ],
             [
              0.6666666666666666,
              "#ed7953"
             ],
             [
              0.7777777777777778,
              "#fb9f3a"
             ],
             [
              0.8888888888888888,
              "#fdca26"
             ],
             [
              1,
              "#f0f921"
             ]
            ],
            "type": "histogram2d"
           }
          ],
          "histogram2dcontour": [
           {
            "colorbar": {
             "outlinewidth": 0,
             "ticks": ""
            },
            "colorscale": [
             [
              0,
              "#0d0887"
             ],
             [
              0.1111111111111111,
              "#46039f"
             ],
             [
              0.2222222222222222,
              "#7201a8"
             ],
             [
              0.3333333333333333,
              "#9c179e"
             ],
             [
              0.4444444444444444,
              "#bd3786"
             ],
             [
              0.5555555555555556,
              "#d8576b"
             ],
             [
              0.6666666666666666,
              "#ed7953"
             ],
             [
              0.7777777777777778,
              "#fb9f3a"
             ],
             [
              0.8888888888888888,
              "#fdca26"
             ],
             [
              1,
              "#f0f921"
             ]
            ],
            "type": "histogram2dcontour"
           }
          ],
          "mesh3d": [
           {
            "colorbar": {
             "outlinewidth": 0,
             "ticks": ""
            },
            "type": "mesh3d"
           }
          ],
          "parcoords": [
           {
            "line": {
             "colorbar": {
              "outlinewidth": 0,
              "ticks": ""
             }
            },
            "type": "parcoords"
           }
          ],
          "pie": [
           {
            "automargin": true,
            "type": "pie"
           }
          ],
          "scatter": [
           {
            "marker": {
             "line": {
              "color": "#283442"
             }
            },
            "type": "scatter"
           }
          ],
          "scatter3d": [
           {
            "line": {
             "colorbar": {
              "outlinewidth": 0,
              "ticks": ""
             }
            },
            "marker": {
             "colorbar": {
              "outlinewidth": 0,
              "ticks": ""
             }
            },
            "type": "scatter3d"
           }
          ],
          "scattercarpet": [
           {
            "marker": {
             "colorbar": {
              "outlinewidth": 0,
              "ticks": ""
             }
            },
            "type": "scattercarpet"
           }
          ],
          "scattergeo": [
           {
            "marker": {
             "colorbar": {
              "outlinewidth": 0,
              "ticks": ""
             }
            },
            "type": "scattergeo"
           }
          ],
          "scattergl": [
           {
            "marker": {
             "line": {
              "color": "#283442"
             }
            },
            "type": "scattergl"
           }
          ],
          "scattermap": [
           {
            "marker": {
             "colorbar": {
              "outlinewidth": 0,
              "ticks": ""
             }
            },
            "type": "scattermap"
           }
          ],
          "scattermapbox": [
           {
            "marker": {
             "colorbar": {
              "outlinewidth": 0,
              "ticks": ""
             }
            },
            "type": "scattermapbox"
           }
          ],
          "scatterpolar": [
           {
            "marker": {
             "colorbar": {
              "outlinewidth": 0,
              "ticks": ""
             }
            },
            "type": "scatterpolar"
           }
          ],
          "scatterpolargl": [
           {
            "marker": {
             "colorbar": {
              "outlinewidth": 0,
              "ticks": ""
             }
            },
            "type": "scatterpolargl"
           }
          ],
          "scatterternary": [
           {
            "marker": {
             "colorbar": {
              "outlinewidth": 0,
              "ticks": ""
             }
            },
            "type": "scatterternary"
           }
          ],
          "surface": [
           {
            "colorbar": {
             "outlinewidth": 0,
             "ticks": ""
            },
            "colorscale": [
             [
              0,
              "#0d0887"
             ],
             [
              0.1111111111111111,
              "#46039f"
             ],
             [
              0.2222222222222222,
              "#7201a8"
             ],
             [
              0.3333333333333333,
              "#9c179e"
             ],
             [
              0.4444444444444444,
              "#bd3786"
             ],
             [
              0.5555555555555556,
              "#d8576b"
             ],
             [
              0.6666666666666666,
              "#ed7953"
             ],
             [
              0.7777777777777778,
              "#fb9f3a"
             ],
             [
              0.8888888888888888,
              "#fdca26"
             ],
             [
              1,
              "#f0f921"
             ]
            ],
            "type": "surface"
           }
          ],
          "table": [
           {
            "cells": {
             "fill": {
              "color": "#506784"
             },
             "line": {
              "color": "rgb(17,17,17)"
             }
            },
            "header": {
             "fill": {
              "color": "#2a3f5f"
             },
             "line": {
              "color": "rgb(17,17,17)"
             }
            },
            "type": "table"
           }
          ]
         },
         "layout": {
          "annotationdefaults": {
           "arrowcolor": "#f2f5fa",
           "arrowhead": 0,
           "arrowwidth": 1
          },
          "autotypenumbers": "strict",
          "coloraxis": {
           "colorbar": {
            "outlinewidth": 0,
            "ticks": ""
           }
          },
          "colorscale": {
           "diverging": [
            [
             0,
             "#8e0152"
            ],
            [
             0.1,
             "#c51b7d"
            ],
            [
             0.2,
             "#de77ae"
            ],
            [
             0.3,
             "#f1b6da"
            ],
            [
             0.4,
             "#fde0ef"
            ],
            [
             0.5,
             "#f7f7f7"
            ],
            [
             0.6,
             "#e6f5d0"
            ],
            [
             0.7,
             "#b8e186"
            ],
            [
             0.8,
             "#7fbc41"
            ],
            [
             0.9,
             "#4d9221"
            ],
            [
             1,
             "#276419"
            ]
           ],
           "sequential": [
            [
             0,
             "#0d0887"
            ],
            [
             0.1111111111111111,
             "#46039f"
            ],
            [
             0.2222222222222222,
             "#7201a8"
            ],
            [
             0.3333333333333333,
             "#9c179e"
            ],
            [
             0.4444444444444444,
             "#bd3786"
            ],
            [
             0.5555555555555556,
             "#d8576b"
            ],
            [
             0.6666666666666666,
             "#ed7953"
            ],
            [
             0.7777777777777778,
             "#fb9f3a"
            ],
            [
             0.8888888888888888,
             "#fdca26"
            ],
            [
             1,
             "#f0f921"
            ]
           ],
           "sequentialminus": [
            [
             0,
             "#0d0887"
            ],
            [
             0.1111111111111111,
             "#46039f"
            ],
            [
             0.2222222222222222,
             "#7201a8"
            ],
            [
             0.3333333333333333,
             "#9c179e"
            ],
            [
             0.4444444444444444,
             "#bd3786"
            ],
            [
             0.5555555555555556,
             "#d8576b"
            ],
            [
             0.6666666666666666,
             "#ed7953"
            ],
            [
             0.7777777777777778,
             "#fb9f3a"
            ],
            [
             0.8888888888888888,
             "#fdca26"
            ],
            [
             1,
             "#f0f921"
            ]
           ]
          },
          "colorway": [
           "#636efa",
           "#EF553B",
           "#00cc96",
           "#ab63fa",
           "#FFA15A",
           "#19d3f3",
           "#FF6692",
           "#B6E880",
           "#FF97FF",
           "#FECB52"
          ],
          "font": {
           "color": "#f2f5fa"
          },
          "geo": {
           "bgcolor": "rgb(17,17,17)",
           "lakecolor": "rgb(17,17,17)",
           "landcolor": "rgb(17,17,17)",
           "showlakes": true,
           "showland": true,
           "subunitcolor": "#506784"
          },
          "hoverlabel": {
           "align": "left"
          },
          "hovermode": "closest",
          "mapbox": {
           "style": "dark"
          },
          "paper_bgcolor": "rgb(17,17,17)",
          "plot_bgcolor": "rgb(17,17,17)",
          "polar": {
           "angularaxis": {
            "gridcolor": "#506784",
            "linecolor": "#506784",
            "ticks": ""
           },
           "bgcolor": "rgb(17,17,17)",
           "radialaxis": {
            "gridcolor": "#506784",
            "linecolor": "#506784",
            "ticks": ""
           }
          },
          "scene": {
           "xaxis": {
            "backgroundcolor": "rgb(17,17,17)",
            "gridcolor": "#506784",
            "gridwidth": 2,
            "linecolor": "#506784",
            "showbackground": true,
            "ticks": "",
            "zerolinecolor": "#C8D4E3"
           },
           "yaxis": {
            "backgroundcolor": "rgb(17,17,17)",
            "gridcolor": "#506784",
            "gridwidth": 2,
            "linecolor": "#506784",
            "showbackground": true,
            "ticks": "",
            "zerolinecolor": "#C8D4E3"
           },
           "zaxis": {
            "backgroundcolor": "rgb(17,17,17)",
            "gridcolor": "#506784",
            "gridwidth": 2,
            "linecolor": "#506784",
            "showbackground": true,
            "ticks": "",
            "zerolinecolor": "#C8D4E3"
           }
          },
          "shapedefaults": {
           "line": {
            "color": "#f2f5fa"
           }
          },
          "sliderdefaults": {
           "bgcolor": "#C8D4E3",
           "bordercolor": "rgb(17,17,17)",
           "borderwidth": 1,
           "tickwidth": 0
          },
          "ternary": {
           "aaxis": {
            "gridcolor": "#506784",
            "linecolor": "#506784",
            "ticks": ""
           },
           "baxis": {
            "gridcolor": "#506784",
            "linecolor": "#506784",
            "ticks": ""
           },
           "bgcolor": "rgb(17,17,17)",
           "caxis": {
            "gridcolor": "#506784",
            "linecolor": "#506784",
            "ticks": ""
           }
          },
          "title": {
           "x": 0.05
          },
          "updatemenudefaults": {
           "bgcolor": "#506784",
           "borderwidth": 0
          },
          "xaxis": {
           "automargin": true,
           "gridcolor": "#283442",
           "linecolor": "#506784",
           "ticks": "",
           "title": {
            "standoff": 15
           },
           "zerolinecolor": "#283442",
           "zerolinewidth": 2
          },
          "yaxis": {
           "automargin": true,
           "gridcolor": "#283442",
           "linecolor": "#506784",
           "ticks": "",
           "title": {
            "standoff": 15
           },
           "zerolinecolor": "#283442",
           "zerolinewidth": 2
          }
         }
        },
        "title": {
         "text": "Stock Close Prices (Interactive)"
        },
        "xaxis": {
         "title": {
          "text": "Date"
         }
        },
        "yaxis": {
         "title": {
          "text": "Close Price"
         }
        }
       }
      }
     },
     "metadata": {},
     "output_type": "display_data"
    }
   ],
   "source": [
    "import plotly.graph_objs as go\n",
    "from plotly.subplots import make_subplots\n",
    "\n",
    "fig = go.Figure()\n",
    "\n",
    "# 多支股票一張圖\n",
    "for symbol in ['TSLA']:\n",
    "    symbol_df = merged_df[merged_df['symbol'] == symbol]\n",
    "    fig.add_trace(go.Scatter(\n",
    "        x=symbol_df['date'],\n",
    "        y=symbol_df['close'],\n",
    "        mode='lines',\n",
    "        name=symbol\n",
    "    ))\n",
    "\n",
    "fig.update_layout(\n",
    "    title='Stock Close Prices (Interactive)',\n",
    "    xaxis_title='Date',\n",
    "    yaxis_title='Close Price',\n",
    "    hovermode='x unified',\n",
    "    template='plotly_dark',\n",
    "    height=600\n",
    ")\n",
    "\n",
    "fig.show()"
   ]
  },
  {
   "cell_type": "code",
   "execution_count": 72,
   "id": "e16db40d",
   "metadata": {},
   "outputs": [
    {
     "data": {
      "application/vnd.plotly.v1+json": {
       "config": {
        "plotlyServerURL": "https://plot.ly"
       },
       "data": [
        {
         "close": {
          "bdata": "AAAAAGORbkAAAABAbVhvQAAAAKD8Sm1AAAAAgD0ibUAAAACgR6FtQAAAAOAGym1AAAAAICICbkAAAABAfhFuQAAAAMD1sG5AAAAAAADwbkAAAACATvtwQAAAAMDkA3FAAAAA4O7GcEAAAACAwi1wQAAAAMAeLXFAAAAAYGaOcUAAAABgZpJyQAAAAEBtlHJAAAAAAGPJckAAAADAWDZzQAAAACAiSnNAAAAAYLgCckAAAAAAxiZyQAAAAGBVtXFAAAAA4LRlckAAAACAFOpxQAAAAOB6wHJAAAAAwB5Vc0AAAABgAylzQAAAAGDy/3JAAAAAgOvtckAAAACgqopyQAAAAACdHnJAAAAA4ECHckAAAAAAjJFyQAAAAMAegXJAAAAAoHABckAAAADAHs1xQAAAAEAzW3FAAAAAgMI5cUAAAABgj1JxQAAAACBc43BAAAAAYLgmcUAAAABAM7txQAAAAAApFHJAAAAAQOG6ckAAAABguAZzQAAAAIAUQnJAAAAAgMLpckAAAAAAAPxyQAAAAKCZ9XJAAAAAwB5Rc0AAAAAgrktzQAAAAMDMzHJAAAAAoHAJckAAAACgRzVxQAAAAAApQHFAAAAAQAqvcUAAAADA9fxxQAAAACBcw3BAAAAAAACUcEAAAADAzExuQAAAAIAULm9AAAAAgOsZbkAAAAAAKcRtQAAAAIA94mtAAAAAYLjea0AAAAAAABBrQAAAACCuJ2tAAAAAQAq3a0AAAAAgrp9pQAAAAEAza2tAAAAAgBSGa0AAAACgR8FrQAAAAMD16GlAAAAAgBTOakAAAAAAAGhqQAAAAKBwzWtAAAAA4HoUbEAAAABA4SJsQAAAAOCjkGxAAAAAoEdxbEAAAACAPXpsQAAAACBc32pAAAAAgOvpakAAAABACu9pQAAAAGCPomhAAAAAoJnpZ0AAAABA4TJmQAAAAEAK12dAAAAAQAp/aEAAAABgZt5nQAAAAKBwTWhAAAAAoHBdZ0AAAACgcOVmQAAAAIAUhmZAAAAAANf7ZEAAAADAHj1lQAAAAGBm5mZAAAAAIIXbZkAAAACgcN1mQAAAAGCPmmZAAAAAYGZWaEAAAABgZlZoQAAAACCFW2hAAAAAYGbOZkAAAACAPXpmQAAAAKBHwWVAAAAAgBSuZUAAAACgmWFmQAAAAIA9+mRAAAAAYGYeZEAAAACgmZljQAAAAKBwtWNAAAAAIFzHYkAAAAAA17tiQAAAAKCZOWFAAAAAgD0yYUAAAABgZlZfQAAAAKCZyV5AAAAAYGZGW0AAAACgcC1cQAAAAOB6dF5AAAAAIIXLXkAAAABgZgZbQAAAAMD1aFxAAAAAgMKVW0AAAAAA10NcQAAAAKBH8V1AAAAAYGa2XUAAAACAFM5eQAAAAADX415AAAAAoJmZXkAAAAAgrm9gQAAAAMD1GGBAAAAAQOHKX0AAAACgcK1gQAAAAAAA+GFAAAAA4Hr8YUAAAACAwg1iQAAAAOCjCGRAAAAAwMw8ZkAAAADAHtVkQAAAAEAKp2VAAAAAwB6tZkAAAADgo4hnQAAAACBcv2dAAAAA4FFYaEAAAACA65loQAAAAKBHKWlAAAAAgD3qaUAAAADgepxoQAAAAOB6VGhAAAAAAAAoakAAAAAgrsdqQAAAAKBHQWlAAAAAgOsJakAAAAAA16toQAAAACCFG2lAAAAAgD1CaUAAAAAAKZxoQAAAAAAp9GlAAAAAYLi2aUAAAADgo1hpQAAAAMDM3GdAAAAAoEe5aEAAAACA6zloQAAAAGC4dmdAAAAAAADAZkAAAACgcJ1lQAAAAIAUrmVAAAAAIFzPZUAAAADgUehmQAAAAGBmjmZAAAAAACkEZ0AAAAAAKYRmQAAAAAAA6GZAAAAAYI+yaEAAAADAzORnQAAAAEAKB2hAAAAAwB7NZ0AAAACA6/lnQAAAAIAUpmdAAAAAACk8aEAAAADA9WhoQAAAAGC47mlAAAAA4KNYaEAAAABgjxJoQAAAAOCjMGdAAAAAgOshZ0AAAADgURBnQAAAAKBHWWdAAAAAoEeRZkAAAADAzDxnQAAAAAAAIGdAAAAAoEdhZ0AAAACA6wlnQAAAAEDhkmZAAAAAIK5fZEAAAABgj6JkQAAAAKCZUWRAAAAAoHAVZEAAAAAAADhjQAAAAIAUBmRAAAAAgOuJZEAAAABgjzpkQAAAAIDrCWRAAAAAIIUTZEAAAABgZiZkQAAAAIDrQWVAAAAAoEd5ZUAAAADAzCRlQAAAAKBHEWVAAAAAYI+CZUAAAAAgXP9kQAAAAEAzy2RAAAAA4KPQZEAAAAAghbtlQAAAAOB6HGZAAAAA4HqEZkAAAAAA15tnQAAAAOCjOGdAAAAAwMzcZkAAAABACg9nQAAAAKBwJWhAAAAAwB4laUAAAACAwn1pQAAAAOCj8GlAAAAAQAq/akAAAAAghTNrQAAAAIDrqWtAAAAAgD0SbEAAAAAghVttQAAAAMDMjG5AAAAAYI86b0AAAAAgXCtwQAAAAOCjDHBAAAAAwMz8b0AAAADgo0hwQAAAAEAzJ3FAAAAAIFw3cEAAAACAwolwQAAAAKCZCXBAAAAAoJkhbkAAAABguEZvQAAAAADXA3BAAAAAAAAYcEAAAADgUVxwQAAAAMAefXFAAAAAIK6ncUAAAADgo0hxQAAAAEDhJnFAAAAAgMLZcEAAAADgo9xwQAAAAADX/3BAAAAAYGZecUAAAACAFJZxQAAAAIAUJnJAAAAAoHBVckAAAAAAKTRyQAAAAGBmbnBAAAAA4FFAcEAAAADA9dBwQAAAAOB6lHBAAAAAoJmFcEAAAABguPZvQAAAAEAKp3BAAAAAQOG2cEAAAADAHlFwQAAAACCFw29AAAAAwB41cEAAAAAghbtvQAAAAGBmbm9AAAAAYGY2b0AAAACAFEZuQAAAAEDhqm5AAAAAwMxUbkAAAADgUfhtQAAAAGC4Hm1AAAAAQDMzbEAAAABACmdrQAAAACCu72pAAAAAwPXobEAAAACAFCZtQAAAACCFm21AAAAAoEfBbEAAAABA4dJtQAAAAIA92m1AAAAAQOEScEAAAABgZg5wQAAAAKBHIXBAAAAA4FGgbkAAAAAA1wdwQAAAAKBwfW9AAAAAIK5vb0AAAAAAABBvQAAAAKBHGXFAAAAAIK63cEAAAADAzPRwQAAAAOCjQHFAAAAAgD0mcUAAAADgepRwQAAAAAAAqHBAAAAAoHBpcEAAAABgZvZvQAAAAAApnG5AAAAAIK7fbkAAAAAA14NuQAAAAAAAEG5AAAAAACnMbkAAAABACkdvQAAAAEAzc29AAAAAwPXQbkAAAABgj1JwQAAAAMDMQHBAAAAA4HpIcEAAAABguDpwQAAAAIDreXBAAAAAANdvcEAAAACA6y1wQAAAAADXY29AAAAAoHC9b0AAAABAM9tvQAAAAIDCVW5AAAAAIIWDa0AAAAAgrn9qQAAAAGCPgmpAAAAA4KMQa0AAAACgcI1qQAAAAOBRuGlAAAAAoJnpaUAAAAAghatoQAAAAEDhGmlAAAAAwB61aUAAAADgUVBrQAAAAGC4fmtAAAAA4KNoa0AAAACAwsVrQAAAACCFw2tAAAAAIFw/akAAAADAzNRqQAAAAGC49mtAAAAAwB6tbUAAAABA4VpuQAAAAEDhMm1AAAAAoJlJbUAAAABAM3NtQAAAAGBmJm5AAAAAYLhGbUAAAABgZm5tQAAAAGCPgm1AAAAAQArXbkAAAADgeoRuQAAAAGCPAm5AAAAAYI/abUAAAABgj3JtQAAAAEAK121AAAAAANfrbUAAAADgelRuQAAAAEDhem5AAAAAIK73bUAAAADgUaBtQAAAAKBH6W1AAAAAoJlhb0AAAAAAALBvQAAAAGCPgm9AAAAAIIUTcEAAAADgeuRuQAAAAAAA0G9AAAAAoEeRb0AAAACAwglwQAAAAEAKV3BAAAAAgMKlb0AAAAAgXA9vQAAAAKBwDW9AAAAAYGbObUAAAACAwr1tQAAAACCur21AAAAAYGYObkAAAABguF5tQAAAAIAUPm1AAAAAQApnbEAAAADgelxrQAAAAMAefWtAAAAAoJnxakAAAAAAKXxqQAAAAIAUhmpAAAAAoJkZakAAAADgeiRqQAAAAGCP+mlAAAAAACnUZkAAAAAAAOhmQAAAAIDC3WdAAAAAQOHyZ0AAAACgR2lnQAAAACCFm2dAAAAAwB59Z0AAAACA66FmQAAAAEAzI2dAAAAAYI9yZ0AAAACA67FnQAAAAIA9MmhAAAAAACmEZ0AAAADgowBnQAAAAGC4lmdAAAAAYGYOaUAAAABgZv5oQAAAAOBROGhAAAAA4KNYaEAAAADAHq1oQAAAAEAK/2dAAAAAwMzsaEAAAAAgXPdoQAAAAKBHQWlAAAAAACk8aUAAAADgelRpQAAAAOB6hGdAAAAAIK6XZkAAAACgRxFmQAAAAMDMVGZAAAAAQOHqZUAAAADgozhmQAAAAKBHMWZAAAAAIFwvZUAAAAAAAFBkQAAAAIA9cmRAAAAAoJm5ZUAAAACAPWplQAAAAMAe9WVAAAAAgD2aZUAAAABgj1plQAAAAAAplGVAAAAAoHA1ZkAAAABgj3pmQAAAAKBH+WVAAAAAQArnZUAAAAAAKdRkQAAAAAApDGVAAAAAIIVjZUAAAADAzJxkQAAAACBcn2VAAAAAACkcZkAAAADgUXhlQAAAAEAz02VAAAAAoJlhZUAAAAAgXC9kQAAAACCFo2NAAAAAYGZuY0AAAACAwr1iQAAAAKCZYWJAAAAAoJnBYUAAAACAwhViQAAAAAApRGRAAAAAgMJFZUAAAACgRwllQAAAAKCZQWhAAAAAwPXoZkAAAAAgrn9mQAAAAOBRgGZAAAAAgBSmZkAAAADgURhnQAAAAIDrOWZAAAAAQArXZUAAAABACn9lQAAAAEAKD2VAAAAA4Hp8ZUAAAACgmTFmQAAAACCuv2VAAAAAQOHaZUAAAABguC5mQAAAAGBm3mVAAAAAQDNTZ0AAAAAghYNmQAAAACCut2VAAAAAIK5nZkAAAAAAABhmQAAAAIAUBmZAAAAAoEdZZkAAAABgj0JmQAAAAKBHCWZAAAAA4KPYZUAAAAAAAOBlQAAAAIAUPmZAAAAAIFwvZkAAAACgR7llQAAAAMAeVWVAAAAAoEcpZkAAAABACs9mQAAAAOBRQGZAAAAAgBRuZ0AAAAAghRtnQAAAAIA9smZAAAAA4FHgZkAAAABgj9JmQAAAAEAza2dAAAAAANeLaEAAAACgcK1oQAAAAAApvGhAAAAAIIU7akAAAADgUehsQAAAAOB6zG5AAAAA4KNwb0AAAACAFJ5vQAAAAKBHZXBAAAAAACl0cEAAAADA9SBuQAAAACBcB29AAAAA4HqUb0AAAADA9QhwQAAAAAAAEG9AAAAAIFwnb0AAAABgZuZtQAAAAOBRcG9AAAAAACnMbkAAAAAgrv9qQAAAAAAAiGtAAAAAoJl5a0AAAABAMwNtQAAAAADX02tAAAAAgD0CbUAAAAAghRtrQAAAAKBw9WlAAAAAACncaEAAAADgehRpQAAAAOBR+GdAAAAAQOHaaEAAAAAAAABpQAAAACCur2hAAAAAYI/6aUAAAAAAKSxpQAAAAOB6xGpAAAAAANcDa0AAAABACtdrQAAAAEAzo2tAAAAA4KPoa0AAAADAHlVqQAAAAIA9imtAAAAAYLimakAAAABguCZqQAAAAAAAuGlAAAAAwPXIaUAAAAAghcNqQAAAAEAzU2pAAAAAwB5ta0AAAACgcMVsQAAAACBcV2pAAAAA4KMIa0AAAACgcEVsQAAAAAAphGxAAAAAgOu5bEAAAACgR8lsQAAAAMD1WGxAAAAAANd7bEAAAABgZmZsQAAAAKBwfW5AAAAAAADIbUAAAAAAAEBvQAAAAOCjyG9AAAAA4FEQcEAAAABACsdvQAAAACBcR3BAAAAAgBRacEAAAADgUSBwQAAAAOCjIG9AAAAAwB4VbkAAAABgj0JvQAAAAGCPGm5AAAAAAACQbkAAAACgmSFuQAAAAOCj2G1AAAAAoJk5a0AAAADAHmVrQAAAAIA9cmtAAAAAYI+qa0AAAADgepxrQAAAAGBmlmtAAAAAQDNba0AAAABACj9rQAAAAMDMtGpAAAAAIK5HcEAAAABACtNwQAAAAAApaHBAAAAA4FE4cEAAAADAzBhwQAAAAEAzO29AAAAAIFwfb0AAAABA4VpuQAAAAIAUbm9AAAAA4HoIckAAAABgj45yQAAAACCFE3RAAAAAAADgdUAAAAAA14d0QAAAAADXo3RAAAAAQOFyc0AAAAAghQt0QAAAAADXK3VAAAAAAACgdUAAAADgemB1QAAAAIA9OnVAAAAAwPUIdkAAAACgcCl1QAAAACCuI3VAAAAAgD3OdEAAAABgj5J1QAAAAKBwUXZAAAAAYLj2dUAAAABA4V52QAAAAADXF3dAAAAAIIVTeEAAAADgo1x4QAAAAADXD3lAAAAA4FGMekAAAACgmSF6QAAAACCuQ3tAAAAA4FHwfEAAAACAwv19QAAAAIAUgntAAAAAYLhCe0AAAADA9VB6QAAAAKCZ6XpAAAAA4HrkfEAAAACAFGJ8QAAAAGCP+npAAAAAYI8WekAAAACgcD15QAAAAOB6tHdAAAAAQAqneUAAAADAzLB5QAAAAIDCpXhAAAAAQAqveEAAAAAA16t4QAAAAMD1NHlAAAAAgMLFeEAAAAAghcN6QAAAAMAe3XlAAAAAAACoekAAAADAHoF6QAAAAIDC8XlAAAAAgBTGeUAAAACgR2l5QAAAAGBm0nhAAAAAoHDheEAAAACgmVF4QAAAAOB6BHlAAAAAoJlJeUAAAABA4fp3QAAAACBcg3hAAAAAYLiid0AAAADAHmV3QAAAAIDrmXZAAAAAIK7rdUAAAAAAAIh0QAAAAAApCHVAAAAAQAo/dkAAAACgcD12QAAAAIDCIXZAAAAAwPWIdkAAAABgZiZ2QAAAAMDMHHVAAAAA4HqodEAAAADAzOxyQAAAAMDMLHJAAAAAQDOfcUAAAAAgrk9yQAAAAGBmynFAAAAA4KMAcUAAAACgmXFxQAAAAEAzd3BAAAAAYLhqcEAAAADAzMRrQAAAAGCP0mxAAAAAQOECb0AAAACAwhVuQAAAACBcP29AAAAA4FHAbUAAAACA6ylsQAAAACCFe21AAAAA4FGIbUAAAABguBZvQAAAAIA9ZnFAAAAAgD0CckAAAADA9QBxQAAAAIAUEnFAAAAAwMx4cEAAAABgjzJwQAAAACBcx3BAAAAAACmscUAAAADgerRwQAAAAIDC7W1AAAAAoEcpbUAAAAAghbtrQAAAAEAzA3FAAAAAwMyMb0AAAACA64lvQAAAAEAzi29AAAAAIIXDb0AAAACgmTFuQAAAAADXK25AAAAAAABwbEAAAABACr9tQAAAACCuV29AAAAAACk4cEAAAABAM89xQAAAAIAU3nFAAAAA4HpAckAAAABgj6JxQAAAAOBRiHFAAAAAIFzzcUAAAAAAKYRxQAAAAKCZNXFAAAAAIIVDcUAAAADAHs1xQAAAAAAppHJAAAAAgBTmc0AAAADAHuF0QAAAAEDhunVAAAAAwB5tdUAAAAAgrt91QAAAAKBwYXVAAAAAwB59dUAAAACA6+l0QAAAAOCjUHVAAAAAoHA1dUAAAACAPa52QAAAAGBmTnZAAAAAQOFmdkAAAAAgXKd1QAAAAEAKa3VAAAAA4FGEdUAAAADAzMB0QAAAAEAzy3FAAAAAgD1yckAAAACgR0lzQAAAAKBwYXRAAAAAQOFmdEAAAACAwvFzQAAAAMD1VHRAAAAAgBSSdEAAAACgmcVzQAAAAMDMIHRAAAAAYI8idEAAAABA4cp1QAAAACCFR3VAAAAAwMx4dEAAAADgelx0QAAAAIAUOnRAAAAAYI/ac0AAAAAgXMtyQAAAAGBmunNAAAAAoJm1c0AAAABACl9yQA==",
          "dtype": "f8"
         },
         "high": {
          "bdata": "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",
          "dtype": "f8"
         },
         "low": {
          "bdata": "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",
          "dtype": "f8"
         },
         "name": "TSLA",
         "open": {
          "bdata": "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",
          "dtype": "f8"
         },
         "type": "candlestick",
         "x": [
          "2022-07-07",
          "2022-07-08",
          "2022-07-11",
          "2022-07-12",
          "2022-07-13",
          "2022-07-14",
          "2022-07-15",
          "2022-07-18",
          "2022-07-19",
          "2022-07-20",
          "2022-07-21",
          "2022-07-22",
          "2022-07-25",
          "2022-07-26",
          "2022-07-27",
          "2022-07-28",
          "2022-07-29",
          "2022-08-01",
          "2022-08-02",
          "2022-08-03",
          "2022-08-04",
          "2022-08-05",
          "2022-08-08",
          "2022-08-09",
          "2022-08-10",
          "2022-08-11",
          "2022-08-12",
          "2022-08-15",
          "2022-08-16",
          "2022-08-17",
          "2022-08-18",
          "2022-08-19",
          "2022-08-22",
          "2022-08-23",
          "2022-08-24",
          "2022-08-25",
          "2022-08-26",
          "2022-08-29",
          "2022-08-30",
          "2022-08-31",
          "2022-09-01",
          "2022-09-02",
          "2022-09-06",
          "2022-09-07",
          "2022-09-08",
          "2022-09-09",
          "2022-09-12",
          "2022-09-13",
          "2022-09-14",
          "2022-09-15",
          "2022-09-16",
          "2022-09-19",
          "2022-09-20",
          "2022-09-21",
          "2022-09-22",
          "2022-09-23",
          "2022-09-26",
          "2022-09-27",
          "2022-09-28",
          "2022-09-29",
          "2022-09-30",
          "2022-10-03",
          "2022-10-04",
          "2022-10-05",
          "2022-10-06",
          "2022-10-07",
          "2022-10-10",
          "2022-10-11",
          "2022-10-12",
          "2022-10-13",
          "2022-10-14",
          "2022-10-17",
          "2022-10-18",
          "2022-10-19",
          "2022-10-20",
          "2022-10-21",
          "2022-10-24",
          "2022-10-25",
          "2022-10-26",
          "2022-10-27",
          "2022-10-28",
          "2022-10-31",
          "2022-11-01",
          "2022-11-02",
          "2022-11-03",
          "2022-11-04",
          "2022-11-07",
          "2022-11-08",
          "2022-11-09",
          "2022-11-10",
          "2022-11-11",
          "2022-11-14",
          "2022-11-15",
          "2022-11-16",
          "2022-11-17",
          "2022-11-18",
          "2022-11-21",
          "2022-11-22",
          "2022-11-23",
          "2022-11-25",
          "2022-11-28",
          "2022-11-29",
          "2022-11-30",
          "2022-12-01",
          "2022-12-02",
          "2022-12-05",
          "2022-12-06",
          "2022-12-07",
          "2022-12-08",
          "2022-12-09",
          "2022-12-12",
          "2022-12-13",
          "2022-12-14",
          "2022-12-15",
          "2022-12-16",
          "2022-12-19",
          "2022-12-20",
          "2022-12-21",
          "2022-12-22",
          "2022-12-23",
          "2022-12-27",
          "2022-12-28",
          "2022-12-29",
          "2022-12-30",
          "2023-01-03",
          "2023-01-04",
          "2023-01-05",
          "2023-01-06",
          "2023-01-09",
          "2023-01-10",
          "2023-01-11",
          "2023-01-12",
          "2023-01-13",
          "2023-01-17",
          "2023-01-18",
          "2023-01-19",
          "2023-01-20",
          "2023-01-23",
          "2023-01-24",
          "2023-01-25",
          "2023-01-26",
          "2023-01-27",
          "2023-01-30",
          "2023-01-31",
          "2023-02-01",
          "2023-02-02",
          "2023-02-03",
          "2023-02-06",
          "2023-02-07",
          "2023-02-08",
          "2023-02-09",
          "2023-02-10",
          "2023-02-13",
          "2023-02-14",
          "2023-02-15",
          "2023-02-16",
          "2023-02-17",
          "2023-02-21",
          "2023-02-22",
          "2023-02-23",
          "2023-02-24",
          "2023-02-27",
          "2023-02-28",
          "2023-03-01",
          "2023-03-02",
          "2023-03-03",
          "2023-03-06",
          "2023-03-07",
          "2023-03-08",
          "2023-03-09",
          "2023-03-10",
          "2023-03-13",
          "2023-03-14",
          "2023-03-15",
          "2023-03-16",
          "2023-03-17",
          "2023-03-20",
          "2023-03-21",
          "2023-03-22",
          "2023-03-23",
          "2023-03-24",
          "2023-03-27",
          "2023-03-28",
          "2023-03-29",
          "2023-03-30",
          "2023-03-31",
          "2023-04-03",
          "2023-04-04",
          "2023-04-05",
          "2023-04-06",
          "2023-04-10",
          "2023-04-11",
          "2023-04-12",
          "2023-04-13",
          "2023-04-14",
          "2023-04-17",
          "2023-04-18",
          "2023-04-19",
          "2023-04-20",
          "2023-04-21",
          "2023-04-24",
          "2023-04-25",
          "2023-04-26",
          "2023-04-27",
          "2023-04-28",
          "2023-05-01",
          "2023-05-02",
          "2023-05-03",
          "2023-05-04",
          "2023-05-05",
          "2023-05-08",
          "2023-05-09",
          "2023-05-10",
          "2023-05-11",
          "2023-05-12",
          "2023-05-15",
          "2023-05-16",
          "2023-05-17",
          "2023-05-18",
          "2023-05-19",
          "2023-05-22",
          "2023-05-23",
          "2023-05-24",
          "2023-05-25",
          "2023-05-26",
          "2023-05-30",
          "2023-05-31",
          "2023-06-01",
          "2023-06-02",
          "2023-06-05",
          "2023-06-06",
          "2023-06-07",
          "2023-06-08",
          "2023-06-09",
          "2023-06-12",
          "2023-06-13",
          "2023-06-14",
          "2023-06-15",
          "2023-06-16",
          "2023-06-20",
          "2023-06-21",
          "2023-06-22",
          "2023-06-23",
          "2023-06-26",
          "2023-06-27",
          "2023-06-28",
          "2023-06-29",
          "2023-06-30",
          "2023-07-03",
          "2023-07-05",
          "2023-07-06",
          "2023-07-07",
          "2023-07-10",
          "2023-07-11",
          "2023-07-12",
          "2023-07-13",
          "2023-07-14",
          "2023-07-17",
          "2023-07-18",
          "2023-07-19",
          "2023-07-20",
          "2023-07-21",
          "2023-07-24",
          "2023-07-25",
          "2023-07-26",
          "2023-07-27",
          "2023-07-28",
          "2023-07-31",
          "2023-08-01",
          "2023-08-02",
          "2023-08-03",
          "2023-08-04",
          "2023-08-07",
          "2023-08-08",
          "2023-08-09",
          "2023-08-10",
          "2023-08-11",
          "2023-08-14",
          "2023-08-15",
          "2023-08-16",
          "2023-08-17",
          "2023-08-18",
          "2023-08-21",
          "2023-08-22",
          "2023-08-23",
          "2023-08-24",
          "2023-08-25",
          "2023-08-28",
          "2023-08-29",
          "2023-08-30",
          "2023-08-31",
          "2023-09-01",
          "2023-09-05",
          "2023-09-06",
          "2023-09-07",
          "2023-09-08",
          "2023-09-11",
          "2023-09-12",
          "2023-09-13",
          "2023-09-14",
          "2023-09-15",
          "2023-09-18",
          "2023-09-19",
          "2023-09-20",
          "2023-09-21",
          "2023-09-22",
          "2023-09-25",
          "2023-09-26",
          "2023-09-27",
          "2023-09-28",
          "2023-09-29",
          "2023-10-02",
          "2023-10-03",
          "2023-10-04",
          "2023-10-05",
          "2023-10-06",
          "2023-10-09",
          "2023-10-10",
          "2023-10-11",
          "2023-10-12",
          "2023-10-13",
          "2023-10-16",
          "2023-10-17",
          "2023-10-18",
          "2023-10-19",
          "2023-10-20",
          "2023-10-23",
          "2023-10-24",
          "2023-10-25",
          "2023-10-26",
          "2023-10-27",
          "2023-10-30",
          "2023-10-31",
          "2023-11-01",
          "2023-11-02",
          "2023-11-03",
          "2023-11-06",
          "2023-11-07",
          "2023-11-08",
          "2023-11-09",
          "2023-11-10",
          "2023-11-13",
          "2023-11-14",
          "2023-11-15",
          "2023-11-16",
          "2023-11-17",
          "2023-11-20",
          "2023-11-21",
          "2023-11-22",
          "2023-11-24",
          "2023-11-27",
          "2023-11-28",
          "2023-11-29",
          "2023-11-30",
          "2023-12-01",
          "2023-12-04",
          "2023-12-05",
          "2023-12-06",
          "2023-12-07",
          "2023-12-08",
          "2023-12-11",
          "2023-12-12",
          "2023-12-13",
          "2023-12-14",
          "2023-12-15",
          "2023-12-18",
          "2023-12-19",
          "2023-12-20",
          "2023-12-21",
          "2023-12-22",
          "2023-12-26",
          "2023-12-27",
          "2023-12-28",
          "2023-12-29",
          "2024-01-02",
          "2024-01-03",
          "2024-01-04",
          "2024-01-05",
          "2024-01-08",
          "2024-01-09",
          "2024-01-10",
          "2024-01-11",
          "2024-01-12",
          "2024-01-16",
          "2024-01-17",
          "2024-01-18",
          "2024-01-19",
          "2024-01-22",
          "2024-01-23",
          "2024-01-24",
          "2024-01-25",
          "2024-01-26",
          "2024-01-29",
          "2024-01-30",
          "2024-01-31",
          "2024-02-01",
          "2024-02-02",
          "2024-02-05",
          "2024-02-06",
          "2024-02-07",
          "2024-02-08",
          "2024-02-09",
          "2024-02-12",
          "2024-02-13",
          "2024-02-14",
          "2024-02-15",
          "2024-02-16",
          "2024-02-20",
          "2024-02-21",
          "2024-02-22",
          "2024-02-23",
          "2024-02-26",
          "2024-02-27",
          "2024-02-28",
          "2024-02-29",
          "2024-03-01",
          "2024-03-04",
          "2024-03-05",
          "2024-03-06",
          "2024-03-07",
          "2024-03-08",
          "2024-03-11",
          "2024-03-12",
          "2024-03-13",
          "2024-03-14",
          "2024-03-15",
          "2024-03-18",
          "2024-03-19",
          "2024-03-20",
          "2024-03-21",
          "2024-03-22",
          "2024-03-25",
          "2024-03-26",
          "2024-03-27",
          "2024-03-28",
          "2024-04-01",
          "2024-04-02",
          "2024-04-03",
          "2024-04-04",
          "2024-04-05",
          "2024-04-08",
          "2024-04-09",
          "2024-04-10",
          "2024-04-11",
          "2024-04-12",
          "2024-04-15",
          "2024-04-16",
          "2024-04-17",
          "2024-04-18",
          "2024-04-19",
          "2024-04-22",
          "2024-04-23",
          "2024-04-24",
          "2024-04-25",
          "2024-04-26",
          "2024-04-29",
          "2024-04-30",
          "2024-05-01",
          "2024-05-02",
          "2024-05-03",
          "2024-05-06",
          "2024-05-07",
          "2024-05-08",
          "2024-05-09",
          "2024-05-10",
          "2024-05-13",
          "2024-05-14",
          "2024-05-15",
          "2024-05-16",
          "2024-05-17",
          "2024-05-20",
          "2024-05-21",
          "2024-05-22",
          "2024-05-23",
          "2024-05-24",
          "2024-05-28",
          "2024-05-29",
          "2024-05-30",
          "2024-05-31",
          "2024-06-03",
          "2024-06-04",
          "2024-06-05",
          "2024-06-06",
          "2024-06-07",
          "2024-06-10",
          "2024-06-11",
          "2024-06-12",
          "2024-06-13",
          "2024-06-14",
          "2024-06-17",
          "2024-06-18",
          "2024-06-20",
          "2024-06-21",
          "2024-06-24",
          "2024-06-25",
          "2024-06-26",
          "2024-06-27",
          "2024-06-28",
          "2024-07-01",
          "2024-07-02",
          "2024-07-03",
          "2024-07-05",
          "2024-07-08",
          "2024-07-09",
          "2024-07-10",
          "2024-07-11",
          "2024-07-12",
          "2024-07-15",
          "2024-07-16",
          "2024-07-17",
          "2024-07-18",
          "2024-07-19",
          "2024-07-22",
          "2024-07-23",
          "2024-07-24",
          "2024-07-25",
          "2024-07-26",
          "2024-07-29",
          "2024-07-30",
          "2024-07-31",
          "2024-08-01",
          "2024-08-02",
          "2024-08-05",
          "2024-08-06",
          "2024-08-07",
          "2024-08-08",
          "2024-08-09",
          "2024-08-12",
          "2024-08-13",
          "2024-08-14",
          "2024-08-15",
          "2024-08-16",
          "2024-08-19",
          "2024-08-20",
          "2024-08-21",
          "2024-08-22",
          "2024-08-23",
          "2024-08-26",
          "2024-08-27",
          "2024-08-28",
          "2024-08-29",
          "2024-08-30",
          "2024-09-03",
          "2024-09-04",
          "2024-09-05",
          "2024-09-06",
          "2024-09-09",
          "2024-09-10",
          "2024-09-11",
          "2024-09-12",
          "2024-09-13",
          "2024-09-16",
          "2024-09-17",
          "2024-09-18",
          "2024-09-19",
          "2024-09-20",
          "2024-09-23",
          "2024-09-24",
          "2024-09-25",
          "2024-09-26",
          "2024-09-27",
          "2024-09-30",
          "2024-10-01",
          "2024-10-02",
          "2024-10-03",
          "2024-10-04",
          "2024-10-07",
          "2024-10-08",
          "2024-10-09",
          "2024-10-10",
          "2024-10-11",
          "2024-10-14",
          "2024-10-15",
          "2024-10-16",
          "2024-10-17",
          "2024-10-18",
          "2024-10-21",
          "2024-10-22",
          "2024-10-23",
          "2024-10-24",
          "2024-10-25",
          "2024-10-28",
          "2024-10-29",
          "2024-10-30",
          "2024-10-31",
          "2024-11-01",
          "2024-11-04",
          "2024-11-05",
          "2024-11-06",
          "2024-11-07",
          "2024-11-08",
          "2024-11-11",
          "2024-11-12",
          "2024-11-13",
          "2024-11-14",
          "2024-11-15",
          "2024-11-18",
          "2024-11-19",
          "2024-11-20",
          "2024-11-21",
          "2024-11-22",
          "2024-11-25",
          "2024-11-26",
          "2024-11-27",
          "2024-11-29",
          "2024-12-02",
          "2024-12-03",
          "2024-12-04",
          "2024-12-05",
          "2024-12-06",
          "2024-12-09",
          "2024-12-10",
          "2024-12-11",
          "2024-12-12",
          "2024-12-13",
          "2024-12-16",
          "2024-12-17",
          "2024-12-18",
          "2024-12-19",
          "2024-12-20",
          "2024-12-23",
          "2024-12-24",
          "2024-12-26",
          "2024-12-27",
          "2024-12-30",
          "2024-12-31",
          "2025-01-02",
          "2025-01-03",
          "2025-01-06",
          "2025-01-07",
          "2025-01-08",
          "2025-01-10",
          "2025-01-13",
          "2025-01-14",
          "2025-01-15",
          "2025-01-16",
          "2025-01-17",
          "2025-01-21",
          "2025-01-22",
          "2025-01-23",
          "2025-01-24",
          "2025-01-27",
          "2025-01-28",
          "2025-01-29",
          "2025-01-30",
          "2025-01-31",
          "2025-02-03",
          "2025-02-04",
          "2025-02-05",
          "2025-02-06",
          "2025-02-07",
          "2025-02-10",
          "2025-02-11",
          "2025-02-12",
          "2025-02-13",
          "2025-02-14",
          "2025-02-18",
          "2025-02-19",
          "2025-02-20",
          "2025-02-21",
          "2025-02-24",
          "2025-02-25",
          "2025-02-26",
          "2025-02-27",
          "2025-02-28",
          "2025-03-03",
          "2025-03-04",
          "2025-03-05",
          "2025-03-06",
          "2025-03-07",
          "2025-03-10",
          "2025-03-11",
          "2025-03-12",
          "2025-03-13",
          "2025-03-14",
          "2025-03-17",
          "2025-03-18",
          "2025-03-19",
          "2025-03-20",
          "2025-03-21",
          "2025-03-24",
          "2025-03-25",
          "2025-03-26",
          "2025-03-27",
          "2025-03-28",
          "2025-03-31",
          "2025-04-01",
          "2025-04-02",
          "2025-04-03",
          "2025-04-04",
          "2025-04-07",
          "2025-04-08",
          "2025-04-09",
          "2025-04-10",
          "2025-04-11",
          "2025-04-14",
          "2025-04-15",
          "2025-04-16",
          "2025-04-17",
          "2025-04-21",
          "2025-04-22",
          "2025-04-23",
          "2025-04-24",
          "2025-04-25",
          "2025-04-28",
          "2025-04-29",
          "2025-04-30",
          "2025-05-01",
          "2025-05-02",
          "2025-05-05",
          "2025-05-06",
          "2025-05-07",
          "2025-05-08",
          "2025-05-09",
          "2025-05-12",
          "2025-05-13",
          "2025-05-14",
          "2025-05-15",
          "2025-05-16",
          "2025-05-19",
          "2025-05-20",
          "2025-05-21",
          "2025-05-22",
          "2025-05-23",
          "2025-05-27",
          "2025-05-28",
          "2025-05-29",
          "2025-05-30",
          "2025-06-02",
          "2025-06-03",
          "2025-06-04",
          "2025-06-05",
          "2025-06-06",
          "2025-06-09",
          "2025-06-10",
          "2025-06-11",
          "2025-06-12",
          "2025-06-13",
          "2025-06-16",
          "2025-06-17",
          "2025-06-18",
          "2025-06-20",
          "2025-06-23",
          "2025-06-24",
          "2025-06-25",
          "2025-06-26",
          "2025-06-27",
          "2025-06-30",
          "2025-07-01",
          "2025-07-02",
          "2025-07-03",
          "2025-07-07"
         ]
        }
       ],
       "layout": {
        "height": 600,
        "template": {
         "data": {
          "bar": [
           {
            "error_x": {
             "color": "#2a3f5f"
            },
            "error_y": {
             "color": "#2a3f5f"
            },
            "marker": {
             "line": {
              "color": "white",
              "width": 0.5
             },
             "pattern": {
              "fillmode": "overlay",
              "size": 10,
              "solidity": 0.2
             }
            },
            "type": "bar"
           }
          ],
          "barpolar": [
           {
            "marker": {
             "line": {
              "color": "white",
              "width": 0.5
             },
             "pattern": {
              "fillmode": "overlay",
              "size": 10,
              "solidity": 0.2
             }
            },
            "type": "barpolar"
           }
          ],
          "carpet": [
           {
            "aaxis": {
             "endlinecolor": "#2a3f5f",
             "gridcolor": "#C8D4E3",
             "linecolor": "#C8D4E3",
             "minorgridcolor": "#C8D4E3",
             "startlinecolor": "#2a3f5f"
            },
            "baxis": {
             "endlinecolor": "#2a3f5f",
             "gridcolor": "#C8D4E3",
             "linecolor": "#C8D4E3",
             "minorgridcolor": "#C8D4E3",
             "startlinecolor": "#2a3f5f"
            },
            "type": "carpet"
           }
          ],
          "choropleth": [
           {
            "colorbar": {
             "outlinewidth": 0,
             "ticks": ""
            },
            "type": "choropleth"
           }
          ],
          "contour": [
           {
            "colorbar": {
             "outlinewidth": 0,
             "ticks": ""
            },
            "colorscale": [
             [
              0,
              "#0d0887"
             ],
             [
              0.1111111111111111,
              "#46039f"
             ],
             [
              0.2222222222222222,
              "#7201a8"
             ],
             [
              0.3333333333333333,
              "#9c179e"
             ],
             [
              0.4444444444444444,
              "#bd3786"
             ],
             [
              0.5555555555555556,
              "#d8576b"
             ],
             [
              0.6666666666666666,
              "#ed7953"
             ],
             [
              0.7777777777777778,
              "#fb9f3a"
             ],
             [
              0.8888888888888888,
              "#fdca26"
             ],
             [
              1,
              "#f0f921"
             ]
            ],
            "type": "contour"
           }
          ],
          "contourcarpet": [
           {
            "colorbar": {
             "outlinewidth": 0,
             "ticks": ""
            },
            "type": "contourcarpet"
           }
          ],
          "heatmap": [
           {
            "colorbar": {
             "outlinewidth": 0,
             "ticks": ""
            },
            "colorscale": [
             [
              0,
              "#0d0887"
             ],
             [
              0.1111111111111111,
              "#46039f"
             ],
             [
              0.2222222222222222,
              "#7201a8"
             ],
             [
              0.3333333333333333,
              "#9c179e"
             ],
             [
              0.4444444444444444,
              "#bd3786"
             ],
             [
              0.5555555555555556,
              "#d8576b"
             ],
             [
              0.6666666666666666,
              "#ed7953"
             ],
             [
              0.7777777777777778,
              "#fb9f3a"
             ],
             [
              0.8888888888888888,
              "#fdca26"
             ],
             [
              1,
              "#f0f921"
             ]
            ],
            "type": "heatmap"
           }
          ],
          "histogram": [
           {
            "marker": {
             "pattern": {
              "fillmode": "overlay",
              "size": 10,
              "solidity": 0.2
             }
            },
            "type": "histogram"
           }
          ],
          "histogram2d": [
           {
            "colorbar": {
             "outlinewidth": 0,
             "ticks": ""
            },
            "colorscale": [
             [
              0,
              "#0d0887"
             ],
             [
              0.1111111111111111,
              "#46039f"
             ],
             [
              0.2222222222222222,
              "#7201a8"
             ],
             [
              0.3333333333333333,
              "#9c179e"
             ],
             [
              0.4444444444444444,
              "#bd3786"
             ],
             [
              0.5555555555555556,
              "#d8576b"
             ],
             [
              0.6666666666666666,
              "#ed7953"
             ],
             [
              0.7777777777777778,
              "#fb9f3a"
             ],
             [
              0.8888888888888888,
              "#fdca26"
             ],
             [
              1,
              "#f0f921"
             ]
            ],
            "type": "histogram2d"
           }
          ],
          "histogram2dcontour": [
           {
            "colorbar": {
             "outlinewidth": 0,
             "ticks": ""
            },
            "colorscale": [
             [
              0,
              "#0d0887"
             ],
             [
              0.1111111111111111,
              "#46039f"
             ],
             [
              0.2222222222222222,
              "#7201a8"
             ],
             [
              0.3333333333333333,
              "#9c179e"
             ],
             [
              0.4444444444444444,
              "#bd3786"
             ],
             [
              0.5555555555555556,
              "#d8576b"
             ],
             [
              0.6666666666666666,
              "#ed7953"
             ],
             [
              0.7777777777777778,
              "#fb9f3a"
             ],
             [
              0.8888888888888888,
              "#fdca26"
             ],
             [
              1,
              "#f0f921"
             ]
            ],
            "type": "histogram2dcontour"
           }
          ],
          "mesh3d": [
           {
            "colorbar": {
             "outlinewidth": 0,
             "ticks": ""
            },
            "type": "mesh3d"
           }
          ],
          "parcoords": [
           {
            "line": {
             "colorbar": {
              "outlinewidth": 0,
              "ticks": ""
             }
            },
            "type": "parcoords"
           }
          ],
          "pie": [
           {
            "automargin": true,
            "type": "pie"
           }
          ],
          "scatter": [
           {
            "fillpattern": {
             "fillmode": "overlay",
             "size": 10,
             "solidity": 0.2
            },
            "type": "scatter"
           }
          ],
          "scatter3d": [
           {
            "line": {
             "colorbar": {
              "outlinewidth": 0,
              "ticks": ""
             }
            },
            "marker": {
             "colorbar": {
              "outlinewidth": 0,
              "ticks": ""
             }
            },
            "type": "scatter3d"
           }
          ],
          "scattercarpet": [
           {
            "marker": {
             "colorbar": {
              "outlinewidth": 0,
              "ticks": ""
             }
            },
            "type": "scattercarpet"
           }
          ],
          "scattergeo": [
           {
            "marker": {
             "colorbar": {
              "outlinewidth": 0,
              "ticks": ""
             }
            },
            "type": "scattergeo"
           }
          ],
          "scattergl": [
           {
            "marker": {
             "colorbar": {
              "outlinewidth": 0,
              "ticks": ""
             }
            },
            "type": "scattergl"
           }
          ],
          "scattermap": [
           {
            "marker": {
             "colorbar": {
              "outlinewidth": 0,
              "ticks": ""
             }
            },
            "type": "scattermap"
           }
          ],
          "scattermapbox": [
           {
            "marker": {
             "colorbar": {
              "outlinewidth": 0,
              "ticks": ""
             }
            },
            "type": "scattermapbox"
           }
          ],
          "scatterpolar": [
           {
            "marker": {
             "colorbar": {
              "outlinewidth": 0,
              "ticks": ""
             }
            },
            "type": "scatterpolar"
           }
          ],
          "scatterpolargl": [
           {
            "marker": {
             "colorbar": {
              "outlinewidth": 0,
              "ticks": ""
             }
            },
            "type": "scatterpolargl"
           }
          ],
          "scatterternary": [
           {
            "marker": {
             "colorbar": {
              "outlinewidth": 0,
              "ticks": ""
             }
            },
            "type": "scatterternary"
           }
          ],
          "surface": [
           {
            "colorbar": {
             "outlinewidth": 0,
             "ticks": ""
            },
            "colorscale": [
             [
              0,
              "#0d0887"
             ],
             [
              0.1111111111111111,
              "#46039f"
             ],
             [
              0.2222222222222222,
              "#7201a8"
             ],
             [
              0.3333333333333333,
              "#9c179e"
             ],
             [
              0.4444444444444444,
              "#bd3786"
             ],
             [
              0.5555555555555556,
              "#d8576b"
             ],
             [
              0.6666666666666666,
              "#ed7953"
             ],
             [
              0.7777777777777778,
              "#fb9f3a"
             ],
             [
              0.8888888888888888,
              "#fdca26"
             ],
             [
              1,
              "#f0f921"
             ]
            ],
            "type": "surface"
           }
          ],
          "table": [
           {
            "cells": {
             "fill": {
              "color": "#EBF0F8"
             },
             "line": {
              "color": "white"
             }
            },
            "header": {
             "fill": {
              "color": "#C8D4E3"
             },
             "line": {
              "color": "white"
             }
            },
            "type": "table"
           }
          ]
         },
         "layout": {
          "annotationdefaults": {
           "arrowcolor": "#2a3f5f",
           "arrowhead": 0,
           "arrowwidth": 1
          },
          "autotypenumbers": "strict",
          "coloraxis": {
           "colorbar": {
            "outlinewidth": 0,
            "ticks": ""
           }
          },
          "colorscale": {
           "diverging": [
            [
             0,
             "#8e0152"
            ],
            [
             0.1,
             "#c51b7d"
            ],
            [
             0.2,
             "#de77ae"
            ],
            [
             0.3,
             "#f1b6da"
            ],
            [
             0.4,
             "#fde0ef"
            ],
            [
             0.5,
             "#f7f7f7"
            ],
            [
             0.6,
             "#e6f5d0"
            ],
            [
             0.7,
             "#b8e186"
            ],
            [
             0.8,
             "#7fbc41"
            ],
            [
             0.9,
             "#4d9221"
            ],
            [
             1,
             "#276419"
            ]
           ],
           "sequential": [
            [
             0,
             "#0d0887"
            ],
            [
             0.1111111111111111,
             "#46039f"
            ],
            [
             0.2222222222222222,
             "#7201a8"
            ],
            [
             0.3333333333333333,
             "#9c179e"
            ],
            [
             0.4444444444444444,
             "#bd3786"
            ],
            [
             0.5555555555555556,
             "#d8576b"
            ],
            [
             0.6666666666666666,
             "#ed7953"
            ],
            [
             0.7777777777777778,
             "#fb9f3a"
            ],
            [
             0.8888888888888888,
             "#fdca26"
            ],
            [
             1,
             "#f0f921"
            ]
           ],
           "sequentialminus": [
            [
             0,
             "#0d0887"
            ],
            [
             0.1111111111111111,
             "#46039f"
            ],
            [
             0.2222222222222222,
             "#7201a8"
            ],
            [
             0.3333333333333333,
             "#9c179e"
            ],
            [
             0.4444444444444444,
             "#bd3786"
            ],
            [
             0.5555555555555556,
             "#d8576b"
            ],
            [
             0.6666666666666666,
             "#ed7953"
            ],
            [
             0.7777777777777778,
             "#fb9f3a"
            ],
            [
             0.8888888888888888,
             "#fdca26"
            ],
            [
             1,
             "#f0f921"
            ]
           ]
          },
          "colorway": [
           "#636efa",
           "#EF553B",
           "#00cc96",
           "#ab63fa",
           "#FFA15A",
           "#19d3f3",
           "#FF6692",
           "#B6E880",
           "#FF97FF",
           "#FECB52"
          ],
          "font": {
           "color": "#2a3f5f"
          },
          "geo": {
           "bgcolor": "white",
           "lakecolor": "white",
           "landcolor": "white",
           "showlakes": true,
           "showland": true,
           "subunitcolor": "#C8D4E3"
          },
          "hoverlabel": {
           "align": "left"
          },
          "hovermode": "closest",
          "mapbox": {
           "style": "light"
          },
          "paper_bgcolor": "white",
          "plot_bgcolor": "white",
          "polar": {
           "angularaxis": {
            "gridcolor": "#EBF0F8",
            "linecolor": "#EBF0F8",
            "ticks": ""
           },
           "bgcolor": "white",
           "radialaxis": {
            "gridcolor": "#EBF0F8",
            "linecolor": "#EBF0F8",
            "ticks": ""
           }
          },
          "scene": {
           "xaxis": {
            "backgroundcolor": "white",
            "gridcolor": "#DFE8F3",
            "gridwidth": 2,
            "linecolor": "#EBF0F8",
            "showbackground": true,
            "ticks": "",
            "zerolinecolor": "#EBF0F8"
           },
           "yaxis": {
            "backgroundcolor": "white",
            "gridcolor": "#DFE8F3",
            "gridwidth": 2,
            "linecolor": "#EBF0F8",
            "showbackground": true,
            "ticks": "",
            "zerolinecolor": "#EBF0F8"
           },
           "zaxis": {
            "backgroundcolor": "white",
            "gridcolor": "#DFE8F3",
            "gridwidth": 2,
            "linecolor": "#EBF0F8",
            "showbackground": true,
            "ticks": "",
            "zerolinecolor": "#EBF0F8"
           }
          },
          "shapedefaults": {
           "line": {
            "color": "#2a3f5f"
           }
          },
          "ternary": {
           "aaxis": {
            "gridcolor": "#DFE8F3",
            "linecolor": "#A2B1C6",
            "ticks": ""
           },
           "baxis": {
            "gridcolor": "#DFE8F3",
            "linecolor": "#A2B1C6",
            "ticks": ""
           },
           "bgcolor": "white",
           "caxis": {
            "gridcolor": "#DFE8F3",
            "linecolor": "#A2B1C6",
            "ticks": ""
           }
          },
          "title": {
           "x": 0.05
          },
          "xaxis": {
           "automargin": true,
           "gridcolor": "#EBF0F8",
           "linecolor": "#EBF0F8",
           "ticks": "",
           "title": {
            "standoff": 15
           },
           "zerolinecolor": "#EBF0F8",
           "zerolinewidth": 2
          },
          "yaxis": {
           "automargin": true,
           "gridcolor": "#EBF0F8",
           "linecolor": "#EBF0F8",
           "ticks": "",
           "title": {
            "standoff": 15
           },
           "zerolinecolor": "#EBF0F8",
           "zerolinewidth": 2
          }
         }
        },
        "title": {
         "text": "Candlestick Chart - TSLA"
        },
        "xaxis": {
         "rangeslider": {
          "visible": false
         },
         "title": {
          "text": "Date"
         }
        },
        "yaxis": {
         "title": {
          "text": "Price"
         }
        }
       }
      }
     },
     "metadata": {},
     "output_type": "display_data"
    }
   ],
   "source": [
    "import plotly.graph_objects as go\n",
    "\n",
    "# 選擇你要畫的股票，例如 TSLA\n",
    "symbol = 'TSLA'\n",
    "symbol_df = merged_df[merged_df['symbol'] == symbol]\n",
    "\n",
    "# 用 plotly 的 go.Candlestick 畫蠟燭圖\n",
    "fig = go.Figure(data=[\n",
    "    go.Candlestick(\n",
    "        x=symbol_df['date'],\n",
    "        open=symbol_df['open'],\n",
    "        high=symbol_df['high'],\n",
    "        low=symbol_df['low'],\n",
    "        close=symbol_df['close'],\n",
    "        name=symbol\n",
    "    )\n",
    "])\n",
    "\n",
    "fig.update_layout(\n",
    "    title=f'Candlestick Chart - {symbol}',\n",
    "    xaxis_title='Date',\n",
    "    yaxis_title='Price',\n",
    "    xaxis_rangeslider_visible=False,\n",
    "    template='plotly_white',\n",
    "    height=600\n",
    ")\n",
    "\n",
    "fig.show()\n"
   ]
  }
 ],
 "metadata": {
  "kernelspec": {
   "display_name": "Python (bootcamp-env)",
   "language": "python",
   "name": "bootcamp-env"
  },
  "language_info": {
   "codemirror_mode": {
    "name": "ipython",
    "version": 3
   },
   "file_extension": ".py",
   "mimetype": "text/x-python",
   "name": "python",
   "nbconvert_exporter": "python",
   "pygments_lexer": "ipython3",
   "version": "3.13.5"
  }
 },
 "nbformat": 4,
 "nbformat_minor": 5
}
