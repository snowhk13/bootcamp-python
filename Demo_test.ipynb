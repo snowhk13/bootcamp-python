{
 "cells": [
  {
   "cell_type": "code",
   "execution_count": 4,
   "id": "e181cfb1",
   "metadata": {},
   "outputs": [],
   "source": [
    "import pandas as pd\n",
    "import requests\n",
    "from pandas import json_normalize\n",
    "\n",
    "url = \"https://jsonplaceholder.typicode.com/users\"\n",
    "response = requests.get(url)\n",
    "data = response.json()\n",
    "df = json_normalize(data) # this deserialization is able to solve \"address.street\"\n"
   ]
  },
  {
   "cell_type": "code",
   "execution_count": null,
   "id": "7ff8df14",
   "metadata": {},
   "outputs": [],
   "source": [
    "from pyspark.sql import SparkSession\n",
    "\n",
    "spark_session = SparkSession.builder \\\n",
    "  .appName(\"PySpark JDBC Example\") \\\n",
    "  .config(\"spark.jars\", \"/C/github/org/2504/bootcamp/bootcamp-python/postgresql-42.7.7.jar\") \\\n",
    "  .getOrCreate()\n",
    "\n",
    "\n",
    "  # .config(\"spark.jars\", \"/C/software/gitex/bootcamp-python/postgresql-42.7.7.jar\") \n",
    "jdbc_url = \"jdbc:postgresql://localhost:5432/bootcamp_2504\"\n",
    "\n",
    "connection_properties = {\n",
    "  \"user\" : \"postgres\",\n",
    "  \"password\" : \"admin1234\",\n",
    "  \"driver\" : \"org.postgresql.Driver\"\n",
    "}\n",
    "\n",
    "# the whole table data are loaded to df\n",
    "df = spark_session.read.jdbc(url=jdbc_url, table=\"ohlc_data\", properties=connection_properties)\n",
    "\n",
    "# print(df.head())\n",
    "\n",
    "# query_table = \"(select * from ohlc_data where code = 'TSLA' and date = '2024-08-01') as tsla_data\"\n",
    "# df_query1 = spark_session.read.jdbc(url=jdbc_url, table=query_table, properties=connection_properties)\n",
    "# print(df_query1.head())"
   ]
  }
 ],
 "metadata": {
  "kernelspec": {
   "display_name": "Python (bootcamp-env)",
   "language": "python",
   "name": "bootcamp-env"
  }
 },
 "nbformat": 4,
 "nbformat_minor": 5
}
