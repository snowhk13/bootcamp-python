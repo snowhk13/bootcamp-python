{
 "cells": [
  {
   "cell_type": "code",
   "execution_count": 5,
   "metadata": {},
   "outputs": [
    {
     "name": "stdout",
     "output_type": "stream",
     "text": [
      "27\n",
      "1.76\n",
      "John\n",
      "key: name , value: John\n",
      "key: age , value: 27\n",
      "key: height , value: 1.76\n",
      "dict_keys(['name', 'age', 'height'])\n",
      "dict_values(['John', 27, 1.76])\n"
     ]
    }
   ],
   "source": [
    "# Dictionary {}\n",
    "person_dictionary = {\n",
    "  \"name\" : \"John\",\n",
    "  \"age\" : 27,\n",
    "  \"height\" : 1.76\n",
    "}\n",
    "\n",
    "print(person_dictionary[\"age\"])\n",
    "print(person_dictionary[\"height\"])\n",
    "print(person_dictionary[\"name\"])\n",
    "\n",
    "for k, v in person_dictionary.items():\n",
    "  print(\"key:\", k, \", value:\", v)\n",
    "\n",
    "print(person_dictionary.keys())\n",
    "print(person_dictionary.values())"
   ]
  },
  {
   "cell_type": "code",
   "execution_count": 14,
   "metadata": {},
   "outputs": [
    {
     "name": "stdout",
     "output_type": "stream",
     "text": [
      "Jacky\n",
      "Ricky\n",
      "Jennie\n",
      "{3: 'Jacky', 10: 'Ricky', 'email': 'Jennie', 'color': 'red'}\n",
      "{3: 'Jacky', 10: 'Ricky', 'color': 'red'}\n",
      "{3: 'Jacky', 10: 'Vincent', 'color': 'red'}\n"
     ]
    }
   ],
   "source": [
    "number_map = {\n",
    "  3 : \"Jacky\",\n",
    "  10 : \"Ricky\",\n",
    "  \"email\" : \"Jennie\",\n",
    "}\n",
    "\n",
    "print(number_map[3])\n",
    "print(number_map[10])\n",
    "print(number_map[\"email\"])\n",
    "# print(number_map[9]) # error, if key not found\n",
    "\n",
    "# add entry (similar to java)\n",
    "number_map.update({\"color\" : \"red\"})\n",
    "print(number_map)\n",
    "number_map.pop((\"email\"))\n",
    "print(number_map)\n",
    "\n",
    "number_map[10] = \"Vincent\"\n",
    "print(number_map)"
   ]
  },
  {
   "cell_type": "code",
   "execution_count": 18,
   "metadata": {},
   "outputs": [
    {
     "name": "stdout",
     "output_type": "stream",
     "text": [
      "{'child1': {'name': 'John', 'age': 13}, 'child2': {'name': 'Jacky', 'age': 17}, 'child3': {'name': 'Steven', 'age': 23}}\n",
      "<class 'dict'>\n",
      "{'name': 'Jacky', 'age': 17}\n",
      "<class 'dict'>\n"
     ]
    }
   ],
   "source": [
    "# Nested Dictionary (Like a JSON)\n",
    "# Java: child object, List<Child>\n",
    "family = {\n",
    "  \"child1\" : {\n",
    "    \"name\" : \"John\",\n",
    "    \"age\" : 13 \n",
    "  },\n",
    "  \"child2\" : {\n",
    "    \"name\" : \"Jacky\",\n",
    "    \"age\" : 17\n",
    "  },\n",
    "  \"child3\" : {\n",
    "    \"name\" : \"Steven\",\n",
    "    \"age\" : 23\n",
    "  },\n",
    "}\n",
    "\n",
    "print(family)\n",
    "print(type(family)) # dict\n",
    "\n",
    "child2 = family[\"child2\"]\n",
    "print(child2)\n",
    "print(type(child2)) # dict"
   ]
  }
 ],
 "metadata": {
  "kernelspec": {
   "display_name": "Python (bootcamp-env)",
   "language": "python",
   "name": "bootcamp-env"
  },
  "language_info": {
   "codemirror_mode": {
    "name": "ipython",
    "version": 3
   },
   "file_extension": ".py",
   "mimetype": "text/x-python",
   "name": "python",
   "nbconvert_exporter": "python",
   "pygments_lexer": "ipython3",
   "version": "3.13.3"
  },
  "orig_nbformat": 4
 },
 "nbformat": 4,
 "nbformat_minor": 2
}
