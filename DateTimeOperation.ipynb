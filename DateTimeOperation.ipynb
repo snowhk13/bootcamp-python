{
 "cells": [
  {
   "cell_type": "code",
   "execution_count": 85,
   "metadata": {},
   "outputs": [
    {
     "name": "stdout",
     "output_type": "stream",
     "text": [
      "2025-07-07\n",
      "2025-07-08\n",
      "2025-08-07\n",
      "2024-01-01\n",
      "29 days, 0:00:00\n",
      "2025-07-07 11:57:24.229666\n",
      "<class 'datetime.datetime'>\n",
      "2025-07-07 11:57:24\n",
      "<class 'str'>\n",
      "2025-07-07 11:57:24\n",
      "<class 'datetime.datetime'>\n"
     ]
    }
   ],
   "source": [
    "from datetime import date\n",
    "from datetime import timedelta\n",
    "from datetime import datetime\n",
    "\n",
    "print(date.today())\n",
    "\n",
    "tomorrow = date.today() + timedelta(days=1)\n",
    "print(tomorrow)\n",
    "\n",
    "start_date = date(2024, 1, 1)\n",
    "end_date = date(2024, 1, 30)\n",
    "print(start_date)\n",
    "\n",
    "duration = end_date - start_date\n",
    "print(duration)\n",
    "\n",
    "current_time = datetime.now()\n",
    "print(current_time)\n",
    "print(type(current_time))\n",
    "\n",
    "print(current_time.strftime(\"%Y-%m-%d %H:%M:%S\"))\n",
    "\n",
    "# convert datetime to str\n",
    "current_time_str = current_time.strftime(\"%Y-%m-%d %H:%M:%S\");\n",
    "print(type(current_time_str))\n",
    "\n",
    "# convert str to datetime\n",
    "parsed_date = datetime.strptime(current_time_str, \"%Y-%m-%d %H:%M:%S\")\n",
    "print(parsed_date)\n",
    "print(type(parsed_date))\n",
    "\n",
    "\n",
    "\n"
   ]
  },
  {
   "cell_type": "code",
   "execution_count": 87,
   "metadata": {},
   "outputs": [
    {
     "name": "stdout",
     "output_type": "stream",
     "text": [
      "2025-08-07\n"
     ]
    }
   ],
   "source": [
    "from dateutil.relativedelta import relativedelta\n",
    "\n",
    "next_month = date.today() + relativedelta(months=1)\n",
    "print(next_month)"
   ]
  },
  {
   "cell_type": "code",
   "execution_count": 83,
   "metadata": {},
   "outputs": [
    {
     "name": "stdout",
     "output_type": "stream",
     "text": [
      "1751860466.076704\n",
      "Elapsed time: 4.090785980224609\n",
      "1751860459.551729\n"
     ]
    }
   ],
   "source": [
    "import time\n",
    "\n",
    "start_time = time.time() # second\n",
    "print(start_time)\n",
    "\n",
    "\n",
    "for i in range(100000):\n",
    "  pass\n",
    "\n",
    "end_time = time.time()\n",
    "print(\"Elapsed time:\", (end_time - start_time) * 1000)\n",
    "\n",
    "\n"
   ]
  }
 ],
 "metadata": {
  "kernelspec": {
   "display_name": "Python (bootcamp-env)",
   "language": "python",
   "name": "bootcamp-env"
  },
  "orig_nbformat": 4
 },
 "nbformat": 4,
 "nbformat_minor": 2
}
