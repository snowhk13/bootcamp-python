{
 "cells": [
  {
   "cell_type": "code",
   "execution_count": null,
   "metadata": {},
   "outputs": [
    {
     "name": "stdout",
     "output_type": "stream",
     "text": [
      "['apple', 'orange', 'cherry']\n",
      "['apple', 'orange', 'cherry', 'lemon']\n",
      "['apple', 'cherry', 'lemon']\n",
      "['apple', 'banana', 'cherry', 'lemon']\n",
      "['apple', 'cherry', 'lemon']\n",
      "['apple', 'cherry']\n",
      "['apple', 'cherry', 'watermelon', 'kiwi']\n",
      "['apple', 'cherry', 'kiwi', 'watermelon']\n",
      "[]\n"
     ]
    }
   ],
   "source": [
    "# List (default: ordered, duplicate allowed, mutable)\n",
    "fruits = [\"apple\", \"orange\", \"cherry\"]\n",
    "print(fruits)\n",
    "\n",
    "fruits.append(\"lemon\")\n",
    "print(fruits)\n",
    "\n",
    "fruits.remove(\"orange\")\n",
    "print(fruits)\n",
    "\n",
    "fruits.insert(1, \"banana\")\n",
    "print(fruits)\n",
    "\n",
    "fruits.pop(1) # remove by index\n",
    "print(fruits)\n",
    "\n",
    "fruits.pop() # remove last item\n",
    "print(fruits)\n",
    "\n",
    "fruits.append(\"watermelon\")\n",
    "fruits.append(\"kiwi\")\n",
    "print(fruits)\n",
    "\n",
    "fruits.sort() # revise itself\n",
    "print(fruits)\n",
    "\n",
    "fruits.clear()\n",
    "print(fruits)\n"
   ]
  },
  {
   "cell_type": "code",
   "execution_count": 2,
   "metadata": {},
   "outputs": [
    {
     "name": "stdout",
     "output_type": "stream",
     "text": [
      "['John', 'Peter', 'Jacky', 3, 100, -9]\n",
      "John\n",
      "Peter\n",
      "Jacky\n",
      "3\n",
      "100\n",
      "-9\n",
      "True\n",
      "False\n",
      "True\n"
     ]
    }
   ],
   "source": [
    "list1 = [\"John\", \"Peter\", \"Jacky\"]\n",
    "list2 = [3, 100, -9]\n",
    "\n",
    "list3 = list1 + list2\n",
    "print(list3)\n",
    "\n",
    "for i in list3:\n",
    "  print(i)\n",
    "\n",
    "print(\"Peter\" in list3)\n",
    "print(\"Ricky\" in list3)\n",
    "print(100 in list3)"
   ]
  },
  {
   "cell_type": "code",
   "execution_count": 4,
   "metadata": {},
   "outputs": [
    {
     "name": "stdout",
     "output_type": "stream",
     "text": [
      "['3333', 3333, True]\n"
     ]
    }
   ],
   "source": [
    "values = [\"3333\", 3333, True]\n",
    "print(values)"
   ]
  },
  {
   "cell_type": "code",
   "execution_count": null,
   "metadata": {},
   "outputs": [],
   "source": [
    "# Java List -> Generic -> a set of same type values, ordered, duplicated allowed, mutable\n",
    "# Python List -> allow different types of values, ordered,  duplicated allowed, mutable"
   ]
  },
  {
   "cell_type": "code",
   "execution_count": 3,
   "metadata": {},
   "outputs": [
    {
     "name": "stdout",
     "output_type": "stream",
     "text": [
      "Vincent\n",
      "['Leo', 'Oscar', 'Ricky', 'Alex']\n",
      "['Jacky', 'Vincent']\n",
      "['Leo', 'Oscar', 'Ricky']\n",
      "Alex\n",
      "Oscar\n",
      "['Leo', 'Oscar', 'Ricky']\n",
      "['Leo', 'Oscar']\n",
      "Old Names: ['Jacky', 'Vincent', 'Leo', 'Oscar', 'Ricky', 'Alex']\n",
      "New Names: ['Jacky', 'Vincent', 'Leo', 'Oscar', 'Ricky', 'Alex']\n",
      "Old Names: ['Jacky', 'Jenny', 'Leo', 'Oscar', 'Ricky', 'Alex']\n",
      "New Names: ['Jacky', 'Jenny', 'Leo', 'Oscar', 'Ricky', 'Alex']\n",
      "['Jacky', 'Jenny', 'Leo', 'Oscar', 'Ricky', 'Alex']\n",
      "Old Names: ['Jacky', 'Jenny', 'Lucas', 'Oscar', 'Ricky', 'Alex']\n",
      "New Names: ['Jacky', 'Jenny', 'Leo', 'Oscar', 'Ricky', 'Alex']\n"
     ]
    }
   ],
   "source": [
    "names = [\"Jacky\", \"Vincent\", \"Leo\", \"Oscar\", \"Ricky\", \"Alex\"]\n",
    "\n",
    "print(names[1])\n",
    "print(names[2:])\n",
    "print(names[:2])\n",
    "print(names[2:5]) # 5-1\n",
    "print(names[-1])\n",
    "print(names[-3])\n",
    "print(names[-4:-1]) # -1-1\n",
    "print(names[-4:-2]) # -2-1\n",
    "\n",
    "new_names = names\n",
    "\n",
    "print(\"Old Names:\", names)\n",
    "print(\"New Names:\", new_names)\n",
    "\n",
    "names[1] = \"Jenny\"\n",
    "\n",
    "print(\"Old Names:\", names)\n",
    "print(\"New Names:\", new_names)\n",
    "\n",
    "names2 = []\n",
    "for x in names:\n",
    "  names2.append(x)\n",
    "\n",
    "print(names2)\n",
    "\n",
    "names[2] = \"Lucas\"\n",
    "print(\"Old Names:\", names)\n",
    "print(\"New Names:\", names2)"
   ]
  }
 ],
 "metadata": {
  "kernelspec": {
   "display_name": "Python (bootcamp-env)",
   "language": "python",
   "name": "bootcamp-env"
  },
  "orig_nbformat": 4
 },
 "nbformat": 4,
 "nbformat_minor": 2
}
