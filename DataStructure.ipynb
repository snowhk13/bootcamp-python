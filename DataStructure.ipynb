{
 "cells": [
  {
   "cell_type": "code",
   "execution_count": 12,
   "id": "705ac7b3",
   "metadata": {},
   "outputs": [
    {
     "name": "stdout",
     "output_type": "stream",
     "text": [
      "['apple', 'orange', 'cherry']\n",
      "['apple', 'orange', 'cherry', 'lemon']\n",
      "['apple', 'cherry', 'lemon']\n",
      "['apple', 'banana', 'cherry', 'lemon']\n",
      "['apple', 'cherry', 'lemon']\n",
      "['apple', 'lemon']\n",
      "['apple', 'lemon', 'watermelon', 'kiwi']\n",
      "['apple', 'kiwi', 'lemon', 'watermelon']\n",
      "[]\n"
     ]
    }
   ],
   "source": [
    "#List\n",
    "fruits = [\"apple\",\"orange\",\"cherry\"]\n",
    "print(fruits)\n",
    "\n",
    "fruits.append(\"lemon\")\n",
    "print(fruits)\n",
    "\n",
    "fruits.remove(\"orange\")\n",
    "print(fruits)\n",
    "\n",
    "fruits.insert(1,\"banana\")\n",
    "print(fruits)\n",
    "\n",
    "fruits.pop(1)\n",
    "print(fruits)\n",
    "\n",
    "fruits.pop(1)\n",
    "print(fruits)\n",
    "\n",
    "fruits.append(\"watermelon\")\n",
    "fruits.append(\"kiwi\")\n",
    "print(fruits)\n",
    "fruits.sort()\n",
    "\n",
    "print(fruits)\n",
    "fruits.clear()\n",
    "\n",
    "print(fruits)\n"
   ]
  },
  {
   "cell_type": "code",
   "execution_count": 18,
   "id": "2501b2e7",
   "metadata": {},
   "outputs": [
    {
     "name": "stdout",
     "output_type": "stream",
     "text": [
      "['John', 'Peter', 'Jacky', 3, 100, -9]\n",
      "John\n",
      "Peter\n",
      "Jacky\n",
      "3\n",
      "100\n",
      "-9\n",
      "True\n",
      "False\n",
      "True\n"
     ]
    }
   ],
   "source": [
    "list1 = [\"John\",\"Peter\",\"Jacky\"]\n",
    "list2 = [3,100,-9]\n",
    "\n",
    "list3 = list1 + list2\n",
    "\n",
    "print(list3)\n",
    "\n",
    "for i in list3:\n",
    "  print(i)\n",
    "\n",
    "print(\"Peter\" in list3)\n",
    "print(\"Ricky\" in list3)\n",
    "print(100 in list3)"
   ]
  },
  {
   "cell_type": "code",
   "execution_count": 26,
   "id": "dc18cad9",
   "metadata": {},
   "outputs": [
    {
     "name": "stdout",
     "output_type": "stream",
     "text": [
      "Vincent\n",
      "['Leo', 'Oscar', 'Ricky', 'Alex']\n",
      "['Jacky', 'Vincent']\n",
      "['Leo', 'Oscar', 'Ricky']\n",
      "Alex\n",
      "['Leo', 'Oscar', 'Ricky']\n",
      "['Jacky', 'Vincent', 'Leo', 'Oscar', 'Ricky', 'Alex']\n",
      "['Jacky', 'Jenny', 'Leo', 'Oscar', 'Ricky', 'Alex']\n",
      "['Jacky', 'Jenny', 'Leo', 'Oscar', 'Ricky', 'Alex']\n",
      "['Jacky', 'Jenny', 'Leo', 'Oscar', 'Ricky', 'Alex']\n",
      "['Jacky', 'Alex', 'Leo', 'Oscar', 'Ricky', 'Alex']\n"
     ]
    }
   ],
   "source": [
    "names = [\"Jacky\",\"Vincent\",\"Leo\",\"Oscar\",\"Ricky\",\"Alex\"]\n",
    "\n",
    "print(names[1])\n",
    "print(names[2:])\n",
    "print(names[:2])\n",
    "print(names[2:5])\n",
    "print(names[-1])\n",
    "print(names[-4:-1])\n",
    "\n",
    "new_names = names\n",
    "print(new_names)\n",
    "names[1] = \"Jenny\"\n",
    "print(new_names)\n",
    "print(names)\n",
    "\n",
    "names2 = []\n",
    "for x in names:\n",
    "  names2.append(x)\n",
    "\n",
    "names[1] = \"Alex\"\n",
    "print(names2)\n",
    "print(names)\n",
    "\n"
   ]
  }
 ],
 "metadata": {
  "kernelspec": {
   "display_name": "Python (bootcamp-env)",
   "language": "python",
   "name": "bootcamp-env"
  }
 },
 "nbformat": 4,
 "nbformat_minor": 5
}
