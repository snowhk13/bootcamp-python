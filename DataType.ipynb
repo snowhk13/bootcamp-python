{
 "cells": [
  {
   "cell_type": "code",
   "execution_count": 8,
   "metadata": {},
   "outputs": [
    {
     "name": "stdout",
     "output_type": "stream",
     "text": [
      "<class 'int'>\n",
      "<class 'float'>\n",
      "<class 'bool'>\n",
      "<class 'str'>\n",
      "y is not zero\n",
      "Male.\n"
     ]
    }
   ],
   "source": [
    "# int, float, bool, str\n",
    "x = 7\n",
    "y = 9.9\n",
    "is_male = False\n",
    "name = 'Jacky'\n",
    "print(type(x))\n",
    "print(type(y))\n",
    "print(type(is_male))\n",
    "print(type(name))\n",
    "\n",
    "# Python world, 0 or 0.0 -> False\n",
    "if not y:\n",
    "  print('y is zero')\n",
    "else:\n",
    "  print('y is not zero')\n",
    "\n",
    "if is_male == 0:\n",
    " print('Male.')"
   ]
  }
 ],
 "metadata": {
  "kernelspec": {
   "display_name": "Python (bootcamp-env)",
   "language": "python",
   "name": "bootcamp-env"
  },
  "orig_nbformat": 4
 },
 "nbformat": 4,
 "nbformat_minor": 2
}
