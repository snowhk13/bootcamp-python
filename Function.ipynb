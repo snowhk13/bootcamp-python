{
 "cells": [
  {
   "cell_type": "code",
   "execution_count": 3,
   "metadata": {},
   "outputs": [
    {
     "name": "stdout",
     "output_type": "stream",
     "text": [
      "hello world !!!\n",
      "hello!\n",
      "10\n",
      "6\n"
     ]
    }
   ],
   "source": [
    "print(\"hello world !!!\")\n",
    "\n",
    "def say_hello():\n",
    "  print(\"hello!\")\n",
    "\n",
    "say_hello()\n",
    "\n",
    "# 1 + 3\n",
    "def sum(x, y):\n",
    "  return x + y\n",
    "\n",
    "print(sum(3, 7))\n",
    "print(sum(-3, 9))\n",
    "\n",
    "# Java: return 1 value only\n",
    "# Python: return more than 1 value\n",
    "\n"
   ]
  },
  {
   "cell_type": "code",
   "execution_count": 13,
   "metadata": {},
   "outputs": [
    {
     "name": "stdout",
     "output_type": "stream",
     "text": [
      "-80\n",
      "100\n",
      "-80\n",
      "100\n",
      "40\n",
      "29.2\n",
      "73.91346291441093\n",
      "5463.2\n"
     ]
    }
   ],
   "source": [
    "import statistics\n",
    "\n",
    "numbers = [100, -4, 90, 40, -80]\n",
    "\n",
    "print(min(numbers))\n",
    "print(max(numbers))\n",
    "\n",
    "def get_min_max(nums):\n",
    "  return min(nums), max(nums)\n",
    "\n",
    "low, high = get_min_max(numbers)\n",
    "print(low)\n",
    "print(high)\n",
    "\n",
    "def get_stats(nums):\n",
    "  return statistics.median(numbers), statistics.mean(numbers), statistics.stdev(numbers), statistics.variance(numbers)\n",
    "\n",
    "median, mean, sd, variance = get_stats(numbers)\n",
    "print(median)\n",
    "print(mean)\n",
    "print(sd)\n",
    "print(variance)"
   ]
  },
  {
   "cell_type": "code",
   "execution_count": 20,
   "metadata": {},
   "outputs": [
    {
     "name": "stdout",
     "output_type": "stream",
     "text": [
      "Hello!  Jacky\n",
      "Hello!  Ricky\n",
      "0.3000000000000000166533453694\n",
      "0.30000000000000004\n"
     ]
    }
   ],
   "source": [
    "def greeting(name=\"Jacky\"):\n",
    "  print(\"Hello! \", name)\n",
    "\n",
    "greeting()\n",
    "greeting(\"Ricky\")\n"
   ]
  },
  {
   "cell_type": "code",
   "execution_count": 22,
   "metadata": {},
   "outputs": [
    {
     "name": "stdout",
     "output_type": "stream",
     "text": [
      "0.3\n",
      "0.30000000000000004\n"
     ]
    }
   ],
   "source": [
    "\n",
    "from decimal import Decimal\n",
    "\n",
    "x = Decimal(\"0.1\") + Decimal(\"0.2\")\n",
    "print(x)\n",
    "\n",
    "print(0.1 + 0.2)"
   ]
  },
  {
   "cell_type": "code",
   "execution_count": 27,
   "metadata": {},
   "outputs": [
    {
     "name": "stdout",
     "output_type": "stream",
     "text": [
      "True\n",
      "False\n",
      "['10', 9, 10, 'John']\n"
     ]
    }
   ],
   "source": [
    "# Function: Is Even or Odd\n",
    "def is_even(num):\n",
    "  if num % 2 == 0:\n",
    "    return True\n",
    "  return False\n",
    "\n",
    "print(is_even(10))\n",
    "print(is_even(11))\n",
    "\n",
    "# Function: Remove Duplicates from a List\n",
    "def remove_duplicate(lst):\n",
    "  return list(set(lst))\n",
    "\n",
    "print(remove_duplicate([10, 9, \"John\", \"10\", 10, \"John\"]))\n"
   ]
  },
  {
   "cell_type": "code",
   "execution_count": 34,
   "metadata": {},
   "outputs": [
    {
     "name": "stdout",
     "output_type": "stream",
     "text": [
      "16\n",
      "[7, 9, 3]\n",
      "[49, 81, 9]\n",
      "['Jennie', 'Vincent', 'Jacky']\n"
     ]
    }
   ],
   "source": [
    "# Lambda\n",
    "# Java -> formula\n",
    "square_formula = lambda x: x * x\n",
    "print(square_formula(4))\n",
    "\n",
    "# Filter\n",
    "numbers = [7, 10, 9, 4, 3, 6]\n",
    "odd_numbers = list(filter(lambda x: x % 2 == 1, numbers))\n",
    "print(odd_numbers)\n",
    "\n",
    "# Map\n",
    "square = list(map(lambda x: x ** 2, odd_numbers))\n",
    "print(square)\n",
    "\n",
    "# Filter name's length > 4\n",
    "names = [\"John\", \"Jennie\", \"Vincent\", \"Jacky\", \"Ann\"]\n",
    "\n",
    "name_list = list(filter(lambda x: len(x) > 4, names))\n",
    "print(name_list)"
   ]
  }
 ],
 "metadata": {
  "kernelspec": {
   "display_name": "Python (bootcamp-env)",
   "language": "python",
   "name": "bootcamp-env"
  },
  "orig_nbformat": 4
 },
 "nbformat": 4,
 "nbformat_minor": 2
}
