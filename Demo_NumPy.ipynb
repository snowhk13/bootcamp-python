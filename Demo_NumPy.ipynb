{
 "cells": [
  {
   "cell_type": "code",
   "execution_count": 10,
   "metadata": {},
   "outputs": [
    {
     "name": "stdout",
     "output_type": "stream",
     "text": [
      "[1 2 3]\n",
      "[[1 2]\n",
      " [2 7]\n",
      " [3 9]]\n",
      "<class 'numpy.ndarray'>\n",
      "(3, 2)\n",
      "[[1, 2], [2, 7], [3, 9]]\n",
      "<class 'list'>\n",
      "[3 5 7]\n",
      "[ 2  6 12]\n",
      "[1 4 9]\n",
      "[2 3 4]\n"
     ]
    }
   ],
   "source": [
    "# Numeric\n",
    "import numpy as np\n",
    "\n",
    "arr = np.array([1, 2, 3])\n",
    "print(arr)\n",
    "\n",
    "arr2d = np.array([[1, 2], [2, 7], [3, 9]])\n",
    "print(arr2d)\n",
    "print(type(arr2d))\n",
    "\n",
    "print(arr2d.shape) # (3, 2) -> 3 rows and 2 colums\n",
    "\n",
    "# normal python\n",
    "list_of_list = [[1, 2], [2, 7], [3, 9]]\n",
    "print(list_of_list)\n",
    "print(type(list_of_list))\n",
    "\n",
    "arr2 = np.array([2,3,4])\n",
    "print(arr + arr2) # [3,5,7]\n",
    "print(arr * arr2) # [2,6,12]\n",
    "print(arr ** 2) # [1,4,9]\n",
    "print(arr + 1) # [2 3 4]\n"
   ]
  },
  {
   "cell_type": "code",
   "execution_count": 21,
   "metadata": {},
   "outputs": [
    {
     "name": "stdout",
     "output_type": "stream",
     "text": [
      "[1, 2, 3, 1, 2, 3]\n"
     ]
    }
   ],
   "source": [
    "# normal python\n",
    "list1 = [1,2,3]\n",
    "print(list1 * 2) # [1, 2, 3, 1, 2, 3]\n",
    "# print(list1 - 2)\n",
    "# print(list1 + 2)"
   ]
  },
  {
   "cell_type": "code",
   "execution_count": 16,
   "metadata": {},
   "outputs": [
    {
     "name": "stdout",
     "output_type": "stream",
     "text": [
      "49.5\n",
      "43.999053020112456\n",
      "4\n",
      "100\n",
      "[[100   8   6]\n",
      " [  4  99  80]]\n",
      "6\n",
      "6\n"
     ]
    }
   ],
   "source": [
    "# statistic\n",
    "arr3 = np.array([100, 8, 6, 4, 99, 80]) # shape 1 row x 6 columns\n",
    "print(np.mean(arr3))\n",
    "print(np.std(arr3))\n",
    "print(np.min(arr3))\n",
    "print(np.max(arr3))\n",
    "\n",
    "arr4 = arr3.reshape(2, 3)\n",
    "print(arr4) # [[100   8   6] [  4  99  80]]\n",
    "\n",
    "print(arr3.size)\n",
    "print(arr4.size)\n"
   ]
  }
 ],
 "metadata": {
  "kernelspec": {
   "display_name": "Python (bootcamp-env)",
   "language": "python",
   "name": "bootcamp-env"
  },
  "orig_nbformat": 4
 },
 "nbformat": 4,
 "nbformat_minor": 2
}
