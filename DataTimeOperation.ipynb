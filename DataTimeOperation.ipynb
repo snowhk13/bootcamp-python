{
 "cells": [
  {
   "cell_type": "code",
   "execution_count": 6,
   "id": "27671f8f",
   "metadata": {},
   "outputs": [
    {
     "name": "stdout",
     "output_type": "stream",
     "text": [
      "2025-07-07\n",
      "2025-07-08\n",
      "2025-07-07 11:38:03.303482\n"
     ]
    }
   ],
   "source": [
    "from datetime import date\n",
    "from datetime import timedelta\n",
    "from datetime import datetime\n",
    "\n",
    "print(date.today())\n",
    "\n",
    "tomorrow = date.today() + timedelta(days=1)\n",
    "print(tomorrow)\n",
    "\n",
    "now = datetime.now()\n",
    "print(now)"
   ]
  },
  {
   "cell_type": "code",
   "execution_count": 25,
   "id": "ae9e586c",
   "metadata": {},
   "outputs": [
    {
     "name": "stdout",
     "output_type": "stream",
     "text": [
      "1751860354.1696172\n",
      "Elapsed time: 5.772590637207031\n"
     ]
    }
   ],
   "source": [
    "import time\n",
    "\n",
    "start_time = time.time()\n",
    "print(start_time)\n",
    "for i in range(100000):\n",
    " pass\n",
    "end_time = time.time()\n",
    "\n",
    "print(\"Elapsed time:\",(end_time - start_time) * 1000)"
   ]
  }
 ],
 "metadata": {
  "kernelspec": {
   "display_name": "Python (bootcamp-env)",
   "language": "python",
   "name": "bootcamp-env"
  }
 },
 "nbformat": 4,
 "nbformat_minor": 5
}
