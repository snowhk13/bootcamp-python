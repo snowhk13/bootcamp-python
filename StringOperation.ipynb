{
 "cells": [
  {
   "cell_type": "code",
   "execution_count": 28,
   "metadata": {},
   "outputs": [
    {
     "name": "stdout",
     "output_type": "stream",
     "text": [
      "hello\n",
      "HELLO\n"
     ]
    }
   ],
   "source": [
    "u = \"Hello\"\n",
    "print(u.lower())\n",
    "print(u.upper())"
   ]
  },
  {
   "cell_type": "code",
   "execution_count": 29,
   "metadata": {},
   "outputs": [
    {
     "name": "stdout",
     "output_type": "stream",
     "text": [
      "<class 'list'>\n",
      "apple#orange#cherry\n"
     ]
    }
   ],
   "source": [
    "# similar to csv format\n",
    "fruits = \"apple,orange,cherry\"\n",
    "fruits_array = fruits.split(\",\")\n",
    "print(type(fruits_array)) # list\n",
    "\n",
    "fruits_after_join = \"#\".join(fruits_array)\n",
    "print(fruits_after_join)"
   ]
  },
  {
   "cell_type": "code",
   "execution_count": 30,
   "metadata": {},
   "outputs": [
    {
     "name": "stdout",
     "output_type": "stream",
     "text": [
      "Vincent Chan\n"
     ]
    }
   ],
   "source": [
    "first_name = \"Vincent\"\n",
    "last_name = \"Chan\"\n",
    "full_name = first_name + \" \" + last_name\n",
    "print(full_name)"
   ]
  },
  {
   "cell_type": "code",
   "execution_count": 31,
   "metadata": {},
   "outputs": [
    {
     "name": "stdout",
     "output_type": "stream",
     "text": [
      "True\n",
      "True\n",
      "2\n",
      "3\n"
     ]
    }
   ],
   "source": [
    "o = \"C++\"\n",
    "print(o.startswith('C'))\n",
    "print(o.endswith('++'))\n",
    "\n",
    "print(o.count(\"+\"))\n",
    "print(len(o))"
   ]
  },
  {
   "cell_type": "code",
   "execution_count": 32,
   "metadata": {},
   "outputs": [
    {
     "name": "stdout",
     "output_type": "stream",
     "text": [
      "True\n",
      "False\n"
     ]
    }
   ],
   "source": [
    "name = \"jacky\"\n",
    "print(name.isalpha())\n",
    "name = \"jacky3\"\n",
    "print(name.isalpha())"
   ]
  },
  {
   "cell_type": "code",
   "execution_count": 33,
   "metadata": {},
   "outputs": [
    {
     "name": "stdout",
     "output_type": "stream",
     "text": [
      "hello world !!!!\n",
      "lstrip:hello world !!!!   \n",
      "rstrip:  hello world !!!!\n"
     ]
    }
   ],
   "source": [
    "k = \"  hello world !!!!   \"\n",
    "print(k.strip())\n",
    "print(\"lstrip:\" + k.lstrip())\n",
    "print(\"rstrip:\" + k.rstrip())"
   ]
  },
  {
   "cell_type": "code",
   "execution_count": 34,
   "metadata": {},
   "outputs": [
    {
     "name": "stdout",
     "output_type": "stream",
     "text": [
      "  hello Java !!!!   \n",
      "  hello world !!!!   \n"
     ]
    }
   ],
   "source": [
    "k = \"  hello world !!!!   \"\n",
    "print(k.replace(\"world\", \"Java\"))\n",
    "print(k)"
   ]
  },
  {
   "cell_type": "code",
   "execution_count": 35,
   "metadata": {},
   "outputs": [
    {
     "name": "stdout",
     "output_type": "stream",
     "text": [
      "hellohellohello\n"
     ]
    }
   ],
   "source": [
    "print('hello' * 3)"
   ]
  }
 ],
 "metadata": {
  "kernelspec": {
   "display_name": "Python (bootcamp-env)",
   "language": "python",
   "name": "bootcamp-env"
  },
  "orig_nbformat": 4
 },
 "nbformat": 4,
 "nbformat_minor": 2
}
