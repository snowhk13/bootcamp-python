{
 "cells": [
  {
   "cell_type": "code",
   "execution_count": 2,
   "metadata": {},
   "outputs": [
    {
     "name": "stdout",
     "output_type": "stream",
     "text": [
      "13\n",
      "Oscar\n",
      "{\n",
      "  \"name\": \"Oscar\",\n",
      "  \"age\": 13\n",
      "}\n"
     ]
    }
   ],
   "source": [
    "import json\n",
    "\n",
    "# convert json string to dictionary\n",
    "json_str = '{\"name\" : \"Oscar\", \"age\" :13}'\n",
    "dictionary_output = json.loads(json_str)\n",
    "\n",
    "print(dictionary_output[\"age\"]) \n",
    "print(dictionary_output[\"name\"]) \n",
    "\n",
    "# convert from dictionary to json string\n",
    "json_str_output = json.dumps(dictionary_output, indent=2)\n",
    "print(json_str_output)\n"
   ]
  },
  {
   "cell_type": "code",
   "execution_count": 3,
   "metadata": {},
   "outputs": [],
   "source": [
    "user = {\n",
    "  \"username\" : \"jacky_chan\",\n",
    "  \"email\" : \"jackychan@gmail.com\",\n",
    "  \"admin\" : False\n",
    "}\n",
    "\n",
    "# convert dictionary to json, and write to external file.\n",
    "with open(\"user_jacky.json\", \"w\") as file:\n",
    "  json.dump(user, file, indent=2)"
   ]
  },
  {
   "cell_type": "code",
   "execution_count": 4,
   "metadata": {},
   "outputs": [
    {
     "name": "stdout",
     "output_type": "stream",
     "text": [
      "{'username': 'vincent_lau', 'email': 'vincentlau@gmail.com', 'admin': True}\n"
     ]
    }
   ],
   "source": [
    "# convert external json file, to a dictionary in python\n",
    "\n",
    "with open(\"user_vincent.json\", \"r\") as file:\n",
    "  json_user = json.load(file)\n",
    "\n",
    "print(json_user)"
   ]
  },
  {
   "cell_type": "code",
   "execution_count": 5,
   "metadata": {},
   "outputs": [],
   "source": [
    "\n",
    "with open(\"users.json\", \"r\") as file:\n",
    "  json_user_list = json.load(file)\n",
    "\n",
    "admin_user_list = list(filter(lambda x: x[\"admin\"] == True, json_user_list))\n",
    "\n",
    "with open(\"admin_users.json\", \"w\") as file:\n",
    "  json.dump(admin_user_list, file, indent=2)"
   ]
  },
  {
   "cell_type": "code",
   "execution_count": 10,
   "metadata": {},
   "outputs": [],
   "source": [
    "# find person(s) living in New York (refer to Persons.json)\n",
    "# Return their name only, i.e. [\"Jacky\", \"Mary\"]\n",
    "# write the result in json file\n",
    "\n",
    "with open(\"Persons.json\", \"r\") as file:\n",
    "  json_persons_list = json.load(file)\n",
    "\n",
    "# print(type(json_persons_list))\n",
    "new_york_list = list(filter(lambda x: x[\"address\"][\"city\"] == \"New York\", json_persons_list))\n",
    "# print(new_york_list)\n",
    "\n",
    "new_york_name_list = list(map(lambda x: x[\"name\"], new_york_list))\n",
    "\n",
    "with open(\"persons_new_york.json\", \"w\") as file:\n",
    "  json.dump(new_york_name_list, file, indent=2)"
   ]
  }
 ],
 "metadata": {
  "kernelspec": {
   "display_name": "Python (bootcamp-env)",
   "language": "python",
   "name": "bootcamp-env"
  },
  "orig_nbformat": 4
 },
 "nbformat": 4,
 "nbformat_minor": 2
}
