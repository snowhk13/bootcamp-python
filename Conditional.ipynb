{
 "cells": [
  {
   "cell_type": "code",
   "execution_count": 29,
   "metadata": {},
   "outputs": [
    {
     "name": "stdout",
     "output_type": "stream",
     "text": [
      "learning python\n"
     ]
    }
   ],
   "source": [
    "x = 9\n",
    "\n",
    "if x >= 9:\n",
    "  print(\"learning python\")"
   ]
  },
  {
   "cell_type": "code",
   "execution_count": 30,
   "metadata": {},
   "outputs": [
    {
     "name": "stdout",
     "output_type": "stream",
     "text": [
      "learning java\n"
     ]
    }
   ],
   "source": [
    "if x >= 10:\n",
    "  print(\"learning python\")\n",
    "else:\n",
    "  print(\"learning java\")"
   ]
  },
  {
   "cell_type": "code",
   "execution_count": 31,
   "metadata": {},
   "outputs": [
    {
     "name": "stdout",
     "output_type": "stream",
     "text": [
      "B\n"
     ]
    }
   ],
   "source": [
    "# elif\n",
    "score = 89\n",
    "if score >= 90:\n",
    "  grade = 'A'\n",
    "elif score >= 80:\n",
    "  grade = 'B'\n",
    "elif score >= 70:\n",
    "  grade = 'C'\n",
    "else:\n",
    "  grade = 'F'\n",
    "print(grade)"
   ]
  },
  {
   "cell_type": "code",
   "execution_count": 32,
   "metadata": {},
   "outputs": [
    {
     "name": "stdout",
     "output_type": "stream",
     "text": [
      "B\n"
     ]
    }
   ],
   "source": [
    "score = 89\n",
    "if score >= 90:\n",
    "  grade = 'A'\n",
    "elif 80 <= score < 90:\n",
    "  grade = 'B'\n",
    "elif 70 <= score < 80:\n",
    "  grade = 'C'\n",
    "else:\n",
    "  grade = 'F'\n",
    "print(grade)"
   ]
  },
  {
   "cell_type": "code",
   "execution_count": 33,
   "metadata": {},
   "outputs": [
    {
     "name": "stdout",
     "output_type": "stream",
     "text": [
      "B\n"
     ]
    }
   ],
   "source": [
    "score = 89\n",
    "if score >= 90:\n",
    "  grade = 'A'\n",
    "elif 80 <= score and score < 90:\n",
    "  grade = 'B'\n",
    "elif 70 <= score and score < 80:\n",
    "  grade = 'C'\n",
    "else:\n",
    "  grade = 'F'\n",
    "print(grade)"
   ]
  },
  {
   "cell_type": "code",
   "execution_count": 34,
   "metadata": {},
   "outputs": [
    {
     "name": "stdout",
     "output_type": "stream",
     "text": [
      "sushi\n"
     ]
    }
   ],
   "source": [
    "a = 10\n",
    "b = 7\n",
    "\n",
    "if (a > 11 or b > 5):\n",
    "  print('sushi')"
   ]
  },
  {
   "cell_type": "code",
   "execution_count": 35,
   "metadata": {},
   "outputs": [
    {
     "name": "stdout",
     "output_type": "stream",
     "text": [
      "Female\n",
      "Female\n"
     ]
    }
   ],
   "source": [
    "is_male = False\n",
    "\n",
    "if is_male:\n",
    "  print('Male')\n",
    "else:\n",
    "  print('Female')\n",
    "\n",
    "# Java: !isMale\n",
    "if not is_male:\n",
    "  print('Female')\n",
    "else:\n",
    "  print('Male')\n"
   ]
  },
  {
   "cell_type": "code",
   "execution_count": 36,
   "metadata": {},
   "outputs": [
    {
     "name": "stdout",
     "output_type": "stream",
     "text": [
      "it is case 8\n"
     ]
    }
   ],
   "source": [
    "# Java: switch -> break\n",
    "# python: match -> no need break\n",
    "x = 8\n",
    "match x:\n",
    "  case 8:\n",
    "    print('it is case 8')\n",
    "  case 9:\n",
    "    print('it is case 9')\n",
    "  case _:\n",
    "    print('default case.')"
   ]
  },
  {
   "cell_type": "code",
   "execution_count": 38,
   "metadata": {},
   "outputs": [
    {
     "name": "stdout",
     "output_type": "stream",
     "text": [
      "it is 8 or 10\n"
     ]
    }
   ],
   "source": [
    "# Java: switch (No direct and or)\n",
    "# Python: Supprt OR\n",
    "y = 8\n",
    "match y:\n",
    "  case 8 | 10:\n",
    "    print('it is 8 or 10')\n",
    "  case _:\n",
    "    print('other value..')\n"
   ]
  }
 ],
 "metadata": {
  "kernelspec": {
   "display_name": "Python (bootcamp-env)",
   "language": "python",
   "name": "bootcamp-env"
  },
  "orig_nbformat": 4
 },
 "nbformat": 4,
 "nbformat_minor": 2
}
